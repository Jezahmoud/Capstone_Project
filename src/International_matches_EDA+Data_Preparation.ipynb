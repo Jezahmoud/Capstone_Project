{
  "cells": [
    {
      "cell_type": "markdown",
      "metadata": {},
      "source": [
        "# International Matches_EDA + Data Preparation & Cleaning "
      ]
    },
    {
      "cell_type": "markdown",
      "metadata": {
        "id": "5LCeRDXa7fb2"
      },
      "source": [
        "Here we aim to analyze the \"international_matches.csv\" dataset and from it, create a training dataset and an inference dataset, which will be used to predict the results of the QATAR 2022 World Cup."
      ]
    },
    {
      "cell_type": "code",
      "execution_count": 1,
      "metadata": {
        "_cell_guid": "b1076dfc-b9ad-4769-8c92-a6c4dae69d19",
        "_uuid": "8f2839f25d086af736a60e9eeb907d3b93b6e0e5",
        "execution": {
          "iopub.execute_input": "2022-09-16T05:39:39.646382Z",
          "iopub.status.busy": "2022-09-16T05:39:39.646004Z",
          "iopub.status.idle": "2022-09-16T05:39:40.126489Z",
          "shell.execute_reply": "2022-09-16T05:39:40.125346Z",
          "shell.execute_reply.started": "2022-09-16T05:39:39.646359Z"
        },
        "id": "bR2H_TM4czyy"
      },
      "outputs": [],
      "source": [
        "import numpy as np \n",
        "import pandas as pd \n",
        "import matplotlib.pyplot as plt\n",
        "import seaborn as sns\n",
        "import os\n",
        "import warnings\n",
        "warnings.filterwarnings('ignore')"
      ]
    },
    {
      "cell_type": "code",
      "execution_count": 2,
      "metadata": {
        "colab": {
          "base_uri": "https://localhost:8080/",
          "height": 386
        },
        "execution": {
          "iopub.execute_input": "2022-09-16T05:38:38.577404Z",
          "iopub.status.busy": "2022-09-16T05:38:38.57718Z",
          "iopub.status.idle": "2022-09-16T05:38:38.727653Z",
          "shell.execute_reply": "2022-09-16T05:38:38.726679Z",
          "shell.execute_reply.started": "2022-09-16T05:38:38.577382Z"
        },
        "id": "XxuELMU5czy7",
        "outputId": "fc0e5681-2a50-42fc-feea-500ec9480fe4"
      },
      "outputs": [
        {
          "data": {
            "text/html": [
              "<div>\n",
              "<style scoped>\n",
              "    .dataframe tbody tr th:only-of-type {\n",
              "        vertical-align: middle;\n",
              "    }\n",
              "\n",
              "    .dataframe tbody tr th {\n",
              "        vertical-align: top;\n",
              "    }\n",
              "\n",
              "    .dataframe thead th {\n",
              "        text-align: right;\n",
              "    }\n",
              "</style>\n",
              "<table border=\"1\" class=\"dataframe\">\n",
              "  <thead>\n",
              "    <tr style=\"text-align: right;\">\n",
              "      <th></th>\n",
              "      <th>date</th>\n",
              "      <th>home_team</th>\n",
              "      <th>away_team</th>\n",
              "      <th>home_team_continent</th>\n",
              "      <th>away_team_continent</th>\n",
              "      <th>home_team_fifa_rank</th>\n",
              "      <th>away_team_fifa_rank</th>\n",
              "      <th>home_team_total_fifa_points</th>\n",
              "      <th>away_team_total_fifa_points</th>\n",
              "      <th>home_team_score</th>\n",
              "      <th>...</th>\n",
              "      <th>shoot_out</th>\n",
              "      <th>home_team_result</th>\n",
              "      <th>home_team_goalkeeper_score</th>\n",
              "      <th>away_team_goalkeeper_score</th>\n",
              "      <th>home_team_mean_defense_score</th>\n",
              "      <th>home_team_mean_offense_score</th>\n",
              "      <th>home_team_mean_midfield_score</th>\n",
              "      <th>away_team_mean_defense_score</th>\n",
              "      <th>away_team_mean_offense_score</th>\n",
              "      <th>away_team_mean_midfield_score</th>\n",
              "    </tr>\n",
              "  </thead>\n",
              "  <tbody>\n",
              "    <tr>\n",
              "      <th>23916</th>\n",
              "      <td>2022-06-14</td>\n",
              "      <td>Moldova</td>\n",
              "      <td>Andorra</td>\n",
              "      <td>Europe</td>\n",
              "      <td>Europe</td>\n",
              "      <td>180</td>\n",
              "      <td>153</td>\n",
              "      <td>932</td>\n",
              "      <td>1040</td>\n",
              "      <td>2</td>\n",
              "      <td>...</td>\n",
              "      <td>No</td>\n",
              "      <td>Win</td>\n",
              "      <td>65.0</td>\n",
              "      <td>NaN</td>\n",
              "      <td>NaN</td>\n",
              "      <td>NaN</td>\n",
              "      <td>NaN</td>\n",
              "      <td>NaN</td>\n",
              "      <td>NaN</td>\n",
              "      <td>NaN</td>\n",
              "    </tr>\n",
              "    <tr>\n",
              "      <th>23917</th>\n",
              "      <td>2022-06-14</td>\n",
              "      <td>Liechtenstein</td>\n",
              "      <td>Latvia</td>\n",
              "      <td>Europe</td>\n",
              "      <td>Europe</td>\n",
              "      <td>192</td>\n",
              "      <td>135</td>\n",
              "      <td>895</td>\n",
              "      <td>1105</td>\n",
              "      <td>0</td>\n",
              "      <td>...</td>\n",
              "      <td>No</td>\n",
              "      <td>Lose</td>\n",
              "      <td>NaN</td>\n",
              "      <td>65.0</td>\n",
              "      <td>NaN</td>\n",
              "      <td>NaN</td>\n",
              "      <td>NaN</td>\n",
              "      <td>NaN</td>\n",
              "      <td>NaN</td>\n",
              "      <td>NaN</td>\n",
              "    </tr>\n",
              "    <tr>\n",
              "      <th>23918</th>\n",
              "      <td>2022-06-14</td>\n",
              "      <td>Chile</td>\n",
              "      <td>Ghana</td>\n",
              "      <td>South America</td>\n",
              "      <td>Africa</td>\n",
              "      <td>28</td>\n",
              "      <td>60</td>\n",
              "      <td>1526</td>\n",
              "      <td>1387</td>\n",
              "      <td>0</td>\n",
              "      <td>...</td>\n",
              "      <td>Yes</td>\n",
              "      <td>Lose</td>\n",
              "      <td>79.0</td>\n",
              "      <td>74.0</td>\n",
              "      <td>75.5</td>\n",
              "      <td>76.7</td>\n",
              "      <td>78.2</td>\n",
              "      <td>75.5</td>\n",
              "      <td>76.0</td>\n",
              "      <td>78.2</td>\n",
              "    </tr>\n",
              "    <tr>\n",
              "      <th>23919</th>\n",
              "      <td>2022-06-14</td>\n",
              "      <td>Japan</td>\n",
              "      <td>Tunisia</td>\n",
              "      <td>Asia</td>\n",
              "      <td>Africa</td>\n",
              "      <td>23</td>\n",
              "      <td>35</td>\n",
              "      <td>1553</td>\n",
              "      <td>1499</td>\n",
              "      <td>0</td>\n",
              "      <td>...</td>\n",
              "      <td>No</td>\n",
              "      <td>Lose</td>\n",
              "      <td>73.0</td>\n",
              "      <td>NaN</td>\n",
              "      <td>75.2</td>\n",
              "      <td>75.0</td>\n",
              "      <td>77.5</td>\n",
              "      <td>70.8</td>\n",
              "      <td>72.3</td>\n",
              "      <td>74.0</td>\n",
              "    </tr>\n",
              "    <tr>\n",
              "      <th>23920</th>\n",
              "      <td>2022-06-14</td>\n",
              "      <td>Korea Republic</td>\n",
              "      <td>Egypt</td>\n",
              "      <td>Asia</td>\n",
              "      <td>Africa</td>\n",
              "      <td>29</td>\n",
              "      <td>32</td>\n",
              "      <td>1519</td>\n",
              "      <td>1500</td>\n",
              "      <td>4</td>\n",
              "      <td>...</td>\n",
              "      <td>No</td>\n",
              "      <td>Win</td>\n",
              "      <td>75.0</td>\n",
              "      <td>NaN</td>\n",
              "      <td>73.0</td>\n",
              "      <td>80.0</td>\n",
              "      <td>73.8</td>\n",
              "      <td>NaN</td>\n",
              "      <td>79.3</td>\n",
              "      <td>70.8</td>\n",
              "    </tr>\n",
              "  </tbody>\n",
              "</table>\n",
              "<p>5 rows × 25 columns</p>\n",
              "</div>"
            ],
            "text/plain": [
              "            date       home_team away_team home_team_continent  \\\n",
              "23916 2022-06-14         Moldova   Andorra              Europe   \n",
              "23917 2022-06-14   Liechtenstein    Latvia              Europe   \n",
              "23918 2022-06-14           Chile     Ghana       South America   \n",
              "23919 2022-06-14           Japan   Tunisia                Asia   \n",
              "23920 2022-06-14  Korea Republic     Egypt                Asia   \n",
              "\n",
              "      away_team_continent  home_team_fifa_rank  away_team_fifa_rank  \\\n",
              "23916              Europe                  180                  153   \n",
              "23917              Europe                  192                  135   \n",
              "23918              Africa                   28                   60   \n",
              "23919              Africa                   23                   35   \n",
              "23920              Africa                   29                   32   \n",
              "\n",
              "       home_team_total_fifa_points  away_team_total_fifa_points  \\\n",
              "23916                          932                         1040   \n",
              "23917                          895                         1105   \n",
              "23918                         1526                         1387   \n",
              "23919                         1553                         1499   \n",
              "23920                         1519                         1500   \n",
              "\n",
              "       home_team_score  ...  shoot_out home_team_result  \\\n",
              "23916                2  ...         No              Win   \n",
              "23917                0  ...         No             Lose   \n",
              "23918                0  ...        Yes             Lose   \n",
              "23919                0  ...         No             Lose   \n",
              "23920                4  ...         No              Win   \n",
              "\n",
              "      home_team_goalkeeper_score away_team_goalkeeper_score  \\\n",
              "23916                       65.0                        NaN   \n",
              "23917                        NaN                       65.0   \n",
              "23918                       79.0                       74.0   \n",
              "23919                       73.0                        NaN   \n",
              "23920                       75.0                        NaN   \n",
              "\n",
              "       home_team_mean_defense_score home_team_mean_offense_score  \\\n",
              "23916                           NaN                          NaN   \n",
              "23917                           NaN                          NaN   \n",
              "23918                          75.5                         76.7   \n",
              "23919                          75.2                         75.0   \n",
              "23920                          73.0                         80.0   \n",
              "\n",
              "      home_team_mean_midfield_score  away_team_mean_defense_score  \\\n",
              "23916                           NaN                           NaN   \n",
              "23917                           NaN                           NaN   \n",
              "23918                          78.2                          75.5   \n",
              "23919                          77.5                          70.8   \n",
              "23920                          73.8                           NaN   \n",
              "\n",
              "       away_team_mean_offense_score  away_team_mean_midfield_score  \n",
              "23916                           NaN                            NaN  \n",
              "23917                           NaN                            NaN  \n",
              "23918                          76.0                           78.2  \n",
              "23919                          72.3                           74.0  \n",
              "23920                          79.3                           70.8  \n",
              "\n",
              "[5 rows x 25 columns]"
            ]
          },
          "execution_count": 2,
          "metadata": {},
          "output_type": "execute_result"
        }
      ],
      "source": [
        "df = pd.read_csv('data/international_matches.csv', parse_dates=['date'])\n",
        "df.tail()"
      ]
    },
    {
      "cell_type": "code",
      "execution_count": 3,
      "metadata": {
        "colab": {
          "base_uri": "https://localhost:8080/"
        },
        "execution": {
          "iopub.execute_input": "2022-09-16T05:39:49.497621Z",
          "iopub.status.busy": "2022-09-16T05:39:49.497273Z",
          "iopub.status.idle": "2022-09-16T05:39:49.504406Z",
          "shell.execute_reply": "2022-09-16T05:39:49.503589Z",
          "shell.execute_reply.started": "2022-09-16T05:39:49.497596Z"
        },
        "id": "zUFsVxAFczy7",
        "outputId": "c1d306c5-7c3f-4d5b-ec21-233986ab9b23"
      },
      "outputs": [
        {
          "data": {
            "text/plain": [
              "Index(['date', 'home_team', 'away_team', 'home_team_continent',\n",
              "       'away_team_continent', 'home_team_fifa_rank', 'away_team_fifa_rank',\n",
              "       'home_team_total_fifa_points', 'away_team_total_fifa_points',\n",
              "       'home_team_score', 'away_team_score', 'tournament', 'city', 'country',\n",
              "       'neutral_location', 'shoot_out', 'home_team_result',\n",
              "       'home_team_goalkeeper_score', 'away_team_goalkeeper_score',\n",
              "       'home_team_mean_defense_score', 'home_team_mean_offense_score',\n",
              "       'home_team_mean_midfield_score', 'away_team_mean_defense_score',\n",
              "       'away_team_mean_offense_score', 'away_team_mean_midfield_score'],\n",
              "      dtype='object')"
            ]
          },
          "execution_count": 3,
          "metadata": {},
          "output_type": "execute_result"
        }
      ],
      "source": [
        "df.columns"
      ]
    },
    {
      "cell_type": "code",
      "execution_count": 4,
      "metadata": {
        "colab": {
          "base_uri": "https://localhost:8080/"
        },
        "id": "PjJ1tBxfYzQQ",
        "outputId": "f30d1e1c-1470-4c93-be78-9302b298ce0c"
      },
      "outputs": [
        {
          "data": {
            "text/plain": [
              "date                                 0\n",
              "home_team                            0\n",
              "away_team                            0\n",
              "home_team_continent                  0\n",
              "away_team_continent                  0\n",
              "home_team_fifa_rank                  0\n",
              "away_team_fifa_rank                  0\n",
              "home_team_total_fifa_points          0\n",
              "away_team_total_fifa_points          0\n",
              "home_team_score                      0\n",
              "away_team_score                      0\n",
              "tournament                           0\n",
              "city                                 0\n",
              "country                              0\n",
              "neutral_location                     0\n",
              "shoot_out                            0\n",
              "home_team_result                     0\n",
              "home_team_goalkeeper_score       15542\n",
              "away_team_goalkeeper_score       15826\n",
              "home_team_mean_defense_score     16134\n",
              "home_team_mean_offense_score     15411\n",
              "home_team_mean_midfield_score    15759\n",
              "away_team_mean_defense_score     16357\n",
              "away_team_mean_offense_score     15609\n",
              "away_team_mean_midfield_score    15942\n",
              "dtype: int64"
            ]
          },
          "execution_count": 4,
          "metadata": {},
          "output_type": "execute_result"
        }
      ],
      "source": [
        "df.isnull().sum()"
      ]
    },
    {
      "cell_type": "markdown",
      "metadata": {
        "id": "VT019Ma1ZNkd"
      },
      "source": [
        "# PRE-ANALYSIS\n",
        "The dataset has a lot of blank fields that need to be fixed.\n",
        "However, before modifying any field, I want to analyze the teams' qualifications on the last FIFA date (June 2022). This is important because, from these qualifications, I will create the inference dataset that enters the machine learning algorithm that predicts the World Cup matches."
      ]
    },
    {
      "cell_type": "markdown",
      "metadata": {
        "id": "dJWf4Iwdczy8"
      },
      "source": [
        "### Top 10 FIFA Ranking"
      ]
    },
    {
      "cell_type": "code",
      "execution_count": 5,
      "metadata": {
        "colab": {
          "base_uri": "https://localhost:8080/",
          "height": 363
        },
        "execution": {
          "iopub.execute_input": "2022-09-16T05:40:39.362334Z",
          "iopub.status.busy": "2022-09-16T05:40:39.362022Z",
          "iopub.status.idle": "2022-09-16T05:40:39.413556Z",
          "shell.execute_reply": "2022-09-16T05:40:39.412686Z",
          "shell.execute_reply.started": "2022-09-16T05:40:39.36231Z"
        },
        "id": "iW8NfTNjczy8",
        "outputId": "73211633-05cf-4bee-b3ce-c882af54193b"
      },
      "outputs": [
        {
          "data": {
            "text/html": [
              "<div>\n",
              "<style scoped>\n",
              "    .dataframe tbody tr th:only-of-type {\n",
              "        vertical-align: middle;\n",
              "    }\n",
              "\n",
              "    .dataframe tbody tr th {\n",
              "        vertical-align: top;\n",
              "    }\n",
              "\n",
              "    .dataframe thead th {\n",
              "        text-align: right;\n",
              "    }\n",
              "</style>\n",
              "<table border=\"1\" class=\"dataframe\">\n",
              "  <thead>\n",
              "    <tr style=\"text-align: right;\">\n",
              "      <th></th>\n",
              "      <th>team</th>\n",
              "      <th>date</th>\n",
              "      <th>rank</th>\n",
              "    </tr>\n",
              "  </thead>\n",
              "  <tbody>\n",
              "    <tr>\n",
              "      <th>0</th>\n",
              "      <td>Brazil</td>\n",
              "      <td>2022-06-06</td>\n",
              "      <td>1</td>\n",
              "    </tr>\n",
              "    <tr>\n",
              "      <th>1</th>\n",
              "      <td>Belgium</td>\n",
              "      <td>2022-06-14</td>\n",
              "      <td>2</td>\n",
              "    </tr>\n",
              "    <tr>\n",
              "      <th>2</th>\n",
              "      <td>France</td>\n",
              "      <td>2022-06-13</td>\n",
              "      <td>3</td>\n",
              "    </tr>\n",
              "    <tr>\n",
              "      <th>3</th>\n",
              "      <td>Argentina</td>\n",
              "      <td>2022-06-05</td>\n",
              "      <td>4</td>\n",
              "    </tr>\n",
              "    <tr>\n",
              "      <th>4</th>\n",
              "      <td>England</td>\n",
              "      <td>2022-06-14</td>\n",
              "      <td>5</td>\n",
              "    </tr>\n",
              "    <tr>\n",
              "      <th>5</th>\n",
              "      <td>Italy</td>\n",
              "      <td>2022-06-14</td>\n",
              "      <td>6</td>\n",
              "    </tr>\n",
              "    <tr>\n",
              "      <th>6</th>\n",
              "      <td>Spain</td>\n",
              "      <td>2022-06-12</td>\n",
              "      <td>7</td>\n",
              "    </tr>\n",
              "    <tr>\n",
              "      <th>7</th>\n",
              "      <td>Portugal</td>\n",
              "      <td>2022-06-12</td>\n",
              "      <td>8</td>\n",
              "    </tr>\n",
              "    <tr>\n",
              "      <th>8</th>\n",
              "      <td>Mexico</td>\n",
              "      <td>2022-06-14</td>\n",
              "      <td>9</td>\n",
              "    </tr>\n",
              "    <tr>\n",
              "      <th>9</th>\n",
              "      <td>Netherlands</td>\n",
              "      <td>2022-06-14</td>\n",
              "      <td>10</td>\n",
              "    </tr>\n",
              "  </tbody>\n",
              "</table>\n",
              "</div>"
            ],
            "text/plain": [
              "          team       date  rank\n",
              "0       Brazil 2022-06-06     1\n",
              "1      Belgium 2022-06-14     2\n",
              "2       France 2022-06-13     3\n",
              "3    Argentina 2022-06-05     4\n",
              "4      England 2022-06-14     5\n",
              "5        Italy 2022-06-14     6\n",
              "6        Spain 2022-06-12     7\n",
              "7     Portugal 2022-06-12     8\n",
              "8       Mexico 2022-06-14     9\n",
              "9  Netherlands 2022-06-14    10"
            ]
          },
          "execution_count": 5,
          "metadata": {},
          "output_type": "execute_result"
        }
      ],
      "source": [
        "fifa_rank = df[['date','home_team', 'away_team', 'home_team_fifa_rank', 'away_team_fifa_rank']]\n",
        "home = fifa_rank[['date', 'home_team', 'home_team_fifa_rank']].rename(columns={\"home_team\":\"team\", \"home_team_fifa_rank\":\"rank\"})\n",
        "away = fifa_rank[['date', 'away_team', 'away_team_fifa_rank']].rename(columns={\"away_team\":\"team\", \"away_team_fifa_rank\":\"rank\"})\n",
        "fifa_rank = pd.concat([home, away])\n",
        "#Select each country latest match\n",
        "fifa_rank = fifa_rank.sort_values(['team', 'date'], ascending=[True, False])\n",
        "last_rank = fifa_rank\n",
        "fifa_rank_top10 = fifa_rank.groupby('team').first().sort_values('rank', ascending=True)[0:10].reset_index()\n",
        "fifa_rank_top10"
      ]
    },
    {
      "cell_type": "markdown",
      "metadata": {
        "id": "8rO1K5nZczy9"
      },
      "source": [
        "### Top 10 teams with the highest winning percentage at home and away"
      ]
    },
    {
      "cell_type": "code",
      "execution_count": 6,
      "metadata": {
        "execution": {
          "iopub.execute_input": "2022-09-16T05:42:15.425915Z",
          "iopub.status.busy": "2022-09-16T05:42:15.425549Z",
          "iopub.status.idle": "2022-09-16T05:42:15.432274Z",
          "shell.execute_reply": "2022-09-16T05:42:15.431311Z",
          "shell.execute_reply.started": "2022-09-16T05:42:15.42589Z"
        },
        "id": "bOtzjUBAczy9"
      },
      "outputs": [],
      "source": [
        "def home_percentage(team):\n",
        "    score = len(df[(df['home_team'] == team) & (df['home_team_result'] == \"Win\")]) / len(df[df['home_team'] == team]) * 100\n",
        "    return round(score)\n",
        "def away_percentage(team):\n",
        "    score = len(df[(df['away_team'] == team) & (df['home_team_result'] == \"Lose\")]) / len(df[df['away_team'] == team]) * 100\n",
        "    return round(score)"
      ]
    },
    {
      "cell_type": "code",
      "execution_count": 7,
      "metadata": {
        "colab": {
          "base_uri": "https://localhost:8080/",
          "height": 363
        },
        "execution": {
          "iopub.execute_input": "2022-09-16T05:42:38.952052Z",
          "iopub.status.busy": "2022-09-16T05:42:38.950663Z",
          "iopub.status.idle": "2022-09-16T05:42:39.095093Z",
          "shell.execute_reply": "2022-09-16T05:42:39.094267Z",
          "shell.execute_reply.started": "2022-09-16T05:42:38.952015Z"
        },
        "id": "bq4_xpA-czy9",
        "outputId": "0cc6399e-4983-41cb-ee2a-45a0ee13bc8b"
      },
      "outputs": [
        {
          "data": {
            "text/html": [
              "<div>\n",
              "<style scoped>\n",
              "    .dataframe tbody tr th:only-of-type {\n",
              "        vertical-align: middle;\n",
              "    }\n",
              "\n",
              "    .dataframe tbody tr th {\n",
              "        vertical-align: top;\n",
              "    }\n",
              "\n",
              "    .dataframe thead th {\n",
              "        text-align: right;\n",
              "    }\n",
              "</style>\n",
              "<table border=\"1\" class=\"dataframe\">\n",
              "  <thead>\n",
              "    <tr style=\"text-align: right;\">\n",
              "      <th></th>\n",
              "      <th>team</th>\n",
              "      <th>date</th>\n",
              "      <th>rank</th>\n",
              "      <th>Home_win_Per</th>\n",
              "      <th>Away_win_Per</th>\n",
              "      <th>Average_win_Per</th>\n",
              "    </tr>\n",
              "  </thead>\n",
              "  <tbody>\n",
              "    <tr>\n",
              "      <th>0</th>\n",
              "      <td>Brazil</td>\n",
              "      <td>2022-06-06</td>\n",
              "      <td>1</td>\n",
              "      <td>78</td>\n",
              "      <td>60</td>\n",
              "      <td>69.0</td>\n",
              "    </tr>\n",
              "    <tr>\n",
              "      <th>6</th>\n",
              "      <td>Spain</td>\n",
              "      <td>2022-06-12</td>\n",
              "      <td>7</td>\n",
              "      <td>77</td>\n",
              "      <td>61</td>\n",
              "      <td>69.0</td>\n",
              "    </tr>\n",
              "    <tr>\n",
              "      <th>2</th>\n",
              "      <td>France</td>\n",
              "      <td>2022-06-13</td>\n",
              "      <td>3</td>\n",
              "      <td>66</td>\n",
              "      <td>57</td>\n",
              "      <td>62.0</td>\n",
              "    </tr>\n",
              "    <tr>\n",
              "      <th>3</th>\n",
              "      <td>Argentina</td>\n",
              "      <td>2022-06-05</td>\n",
              "      <td>4</td>\n",
              "      <td>68</td>\n",
              "      <td>49</td>\n",
              "      <td>58.0</td>\n",
              "    </tr>\n",
              "    <tr>\n",
              "      <th>4</th>\n",
              "      <td>England</td>\n",
              "      <td>2022-06-14</td>\n",
              "      <td>5</td>\n",
              "      <td>64</td>\n",
              "      <td>51</td>\n",
              "      <td>58.0</td>\n",
              "    </tr>\n",
              "    <tr>\n",
              "      <th>7</th>\n",
              "      <td>Portugal</td>\n",
              "      <td>2022-06-12</td>\n",
              "      <td>8</td>\n",
              "      <td>67</td>\n",
              "      <td>49</td>\n",
              "      <td>58.0</td>\n",
              "    </tr>\n",
              "    <tr>\n",
              "      <th>9</th>\n",
              "      <td>Netherlands</td>\n",
              "      <td>2022-06-14</td>\n",
              "      <td>10</td>\n",
              "      <td>62</td>\n",
              "      <td>55</td>\n",
              "      <td>58.0</td>\n",
              "    </tr>\n",
              "    <tr>\n",
              "      <th>5</th>\n",
              "      <td>Italy</td>\n",
              "      <td>2022-06-14</td>\n",
              "      <td>6</td>\n",
              "      <td>60</td>\n",
              "      <td>49</td>\n",
              "      <td>54.0</td>\n",
              "    </tr>\n",
              "    <tr>\n",
              "      <th>1</th>\n",
              "      <td>Belgium</td>\n",
              "      <td>2022-06-14</td>\n",
              "      <td>2</td>\n",
              "      <td>60</td>\n",
              "      <td>46</td>\n",
              "      <td>53.0</td>\n",
              "    </tr>\n",
              "    <tr>\n",
              "      <th>8</th>\n",
              "      <td>Mexico</td>\n",
              "      <td>2022-06-14</td>\n",
              "      <td>9</td>\n",
              "      <td>60</td>\n",
              "      <td>41</td>\n",
              "      <td>50.0</td>\n",
              "    </tr>\n",
              "  </tbody>\n",
              "</table>\n",
              "</div>"
            ],
            "text/plain": [
              "          team       date  rank  Home_win_Per  Away_win_Per  Average_win_Per\n",
              "0       Brazil 2022-06-06     1            78            60             69.0\n",
              "6        Spain 2022-06-12     7            77            61             69.0\n",
              "2       France 2022-06-13     3            66            57             62.0\n",
              "3    Argentina 2022-06-05     4            68            49             58.0\n",
              "4      England 2022-06-14     5            64            51             58.0\n",
              "7     Portugal 2022-06-12     8            67            49             58.0\n",
              "9  Netherlands 2022-06-14    10            62            55             58.0\n",
              "5        Italy 2022-06-14     6            60            49             54.0\n",
              "1      Belgium 2022-06-14     2            60            46             53.0\n",
              "8       Mexico 2022-06-14     9            60            41             50.0"
            ]
          },
          "execution_count": 7,
          "metadata": {},
          "output_type": "execute_result"
        }
      ],
      "source": [
        "fifa_rank_top10['Home_win_Per'] = np.vectorize(home_percentage)(fifa_rank_top10['team'])\n",
        "fifa_rank_top10['Away_win_Per'] = np.vectorize(away_percentage)(fifa_rank_top10['team'])\n",
        "fifa_rank_top10['Average_win_Per'] = round((fifa_rank_top10['Home_win_Per'] + fifa_rank_top10['Away_win_Per']) / 2)\n",
        "fifa_rank_win = fifa_rank_top10.sort_values('Average_win_Per', ascending = False)\n",
        "fifa_rank_win"
      ]
    },
    {
      "cell_type": "markdown",
      "metadata": {
        "id": "KpWPXODaczy-"
      },
      "source": [
        "### Top 10 attacking teams in the last FIFA date"
      ]
    },
    {
      "cell_type": "code",
      "execution_count": 8,
      "metadata": {
        "colab": {
          "base_uri": "https://localhost:8080/",
          "height": 363
        },
        "execution": {
          "iopub.execute_input": "2022-09-16T05:43:18.363949Z",
          "iopub.status.busy": "2022-09-16T05:43:18.362999Z",
          "iopub.status.idle": "2022-09-16T05:43:18.413666Z",
          "shell.execute_reply": "2022-09-16T05:43:18.412458Z",
          "shell.execute_reply.started": "2022-09-16T05:43:18.363913Z"
        },
        "id": "fuiciCVOczy-",
        "outputId": "b1117e0b-4dde-4bcb-b93f-ac784964d8a5"
      },
      "outputs": [
        {
          "data": {
            "text/html": [
              "<div>\n",
              "<style scoped>\n",
              "    .dataframe tbody tr th:only-of-type {\n",
              "        vertical-align: middle;\n",
              "    }\n",
              "\n",
              "    .dataframe tbody tr th {\n",
              "        vertical-align: top;\n",
              "    }\n",
              "\n",
              "    .dataframe thead th {\n",
              "        text-align: right;\n",
              "    }\n",
              "</style>\n",
              "<table border=\"1\" class=\"dataframe\">\n",
              "  <thead>\n",
              "    <tr style=\"text-align: right;\">\n",
              "      <th></th>\n",
              "      <th>team</th>\n",
              "      <th>date</th>\n",
              "      <th>offense_score</th>\n",
              "    </tr>\n",
              "  </thead>\n",
              "  <tbody>\n",
              "    <tr>\n",
              "      <th>0</th>\n",
              "      <td>Argentina</td>\n",
              "      <td>2022-06-05</td>\n",
              "      <td>89.0</td>\n",
              "    </tr>\n",
              "    <tr>\n",
              "      <th>1</th>\n",
              "      <td>France</td>\n",
              "      <td>2022-06-13</td>\n",
              "      <td>88.3</td>\n",
              "    </tr>\n",
              "    <tr>\n",
              "      <th>2</th>\n",
              "      <td>England</td>\n",
              "      <td>2022-06-14</td>\n",
              "      <td>88.0</td>\n",
              "    </tr>\n",
              "    <tr>\n",
              "      <th>3</th>\n",
              "      <td>Brazil</td>\n",
              "      <td>2022-06-06</td>\n",
              "      <td>86.3</td>\n",
              "    </tr>\n",
              "    <tr>\n",
              "      <th>4</th>\n",
              "      <td>Portugal</td>\n",
              "      <td>2022-06-12</td>\n",
              "      <td>86.0</td>\n",
              "    </tr>\n",
              "    <tr>\n",
              "      <th>5</th>\n",
              "      <td>Belgium</td>\n",
              "      <td>2022-06-14</td>\n",
              "      <td>85.7</td>\n",
              "    </tr>\n",
              "    <tr>\n",
              "      <th>6</th>\n",
              "      <td>Italy</td>\n",
              "      <td>2022-06-14</td>\n",
              "      <td>85.3</td>\n",
              "    </tr>\n",
              "    <tr>\n",
              "      <th>7</th>\n",
              "      <td>Spain</td>\n",
              "      <td>2022-06-12</td>\n",
              "      <td>85.0</td>\n",
              "    </tr>\n",
              "    <tr>\n",
              "      <th>8</th>\n",
              "      <td>Poland</td>\n",
              "      <td>2022-06-14</td>\n",
              "      <td>84.7</td>\n",
              "    </tr>\n",
              "    <tr>\n",
              "      <th>9</th>\n",
              "      <td>Uruguay</td>\n",
              "      <td>2022-06-11</td>\n",
              "      <td>84.3</td>\n",
              "    </tr>\n",
              "  </tbody>\n",
              "</table>\n",
              "</div>"
            ],
            "text/plain": [
              "        team       date  offense_score\n",
              "0  Argentina 2022-06-05           89.0\n",
              "1     France 2022-06-13           88.3\n",
              "2    England 2022-06-14           88.0\n",
              "3     Brazil 2022-06-06           86.3\n",
              "4   Portugal 2022-06-12           86.0\n",
              "5    Belgium 2022-06-14           85.7\n",
              "6      Italy 2022-06-14           85.3\n",
              "7      Spain 2022-06-12           85.0\n",
              "8     Poland 2022-06-14           84.7\n",
              "9    Uruguay 2022-06-11           84.3"
            ]
          },
          "execution_count": 8,
          "metadata": {},
          "output_type": "execute_result"
        }
      ],
      "source": [
        "fifa_offense = df[['date', 'home_team', 'away_team', 'home_team_mean_offense_score', 'away_team_mean_offense_score']]\n",
        "home = fifa_offense[['date', 'home_team', 'home_team_mean_offense_score']].rename(columns={\"home_team\":\"team\", \"home_team_mean_offense_score\":\"offense_score\"})\n",
        "away = fifa_offense[['date', 'away_team', 'away_team_mean_offense_score']].rename(columns={\"away_team\":\"team\", \"away_team_mean_offense_score\":\"offense_score\"})\n",
        "fifa_offense = pd.concat([home, away])\n",
        "fifa_offense = fifa_offense.sort_values(['date', 'team'],ascending=[False, True])\n",
        "last_offense = fifa_offense\n",
        "fifa_offense_top10 = fifa_offense.groupby('team').first().sort_values('offense_score', ascending=False)[0:10].reset_index()\n",
        "fifa_offense_top10"
      ]
    },
    {
      "cell_type": "code",
      "execution_count": 9,
      "metadata": {
        "colab": {
          "base_uri": "https://localhost:8080/",
          "height": 304
        },
        "execution": {
          "iopub.execute_input": "2022-09-16T05:43:30.757049Z",
          "iopub.status.busy": "2022-09-16T05:43:30.756698Z",
          "iopub.status.idle": "2022-09-16T05:43:30.93647Z",
          "shell.execute_reply": "2022-09-16T05:43:30.935481Z",
          "shell.execute_reply.started": "2022-09-16T05:43:30.757024Z"
        },
        "id": "ZI2RVhsPczy-",
        "outputId": "7cc5a380-5fcb-4146-f275-2f38e1ba11da"
      },
      "outputs": [
        {
          "data": {
            "image/png": "[encoded data removed]",
            "text/plain": [
              "<Figure size 640x480 with 1 Axes>"
            ]
          },
          "metadata": {},
          "output_type": "display_data"
        }
      ],
      "source": [
        "sns.barplot(data=fifa_offense_top10, x='offense_score', y='team', color=\"#7F1431\")\n",
        "plt.xlabel('Offense Score', size = 20) \n",
        "plt.ylabel('Team', size = 20) \n",
        "plt.title(\"Top 10 Attacking teams\");"
      ]
    },
    {
      "cell_type": "markdown",
      "metadata": {
        "id": "h1s9cW2Cczy-"
      },
      "source": [
        "### Top 10 Midfield teams in the last FIFA date"
      ]
    },
    {
      "cell_type": "code",
      "execution_count": 10,
      "metadata": {
        "colab": {
          "base_uri": "https://localhost:8080/",
          "height": 363
        },
        "execution": {
          "iopub.execute_input": "2022-09-16T05:44:07.187443Z",
          "iopub.status.busy": "2022-09-16T05:44:07.187131Z",
          "iopub.status.idle": "2022-09-16T05:44:07.230419Z",
          "shell.execute_reply": "2022-09-16T05:44:07.229385Z",
          "shell.execute_reply.started": "2022-09-16T05:44:07.18742Z"
        },
        "id": "OPYkt_Igczy_",
        "outputId": "7adf0372-3631-4779-e639-52254ee1e940"
      },
      "outputs": [
        {
          "data": {
            "text/html": [
              "<div>\n",
              "<style scoped>\n",
              "    .dataframe tbody tr th:only-of-type {\n",
              "        vertical-align: middle;\n",
              "    }\n",
              "\n",
              "    .dataframe tbody tr th {\n",
              "        vertical-align: top;\n",
              "    }\n",
              "\n",
              "    .dataframe thead th {\n",
              "        text-align: right;\n",
              "    }\n",
              "</style>\n",
              "<table border=\"1\" class=\"dataframe\">\n",
              "  <thead>\n",
              "    <tr style=\"text-align: right;\">\n",
              "      <th></th>\n",
              "      <th>team</th>\n",
              "      <th>date</th>\n",
              "      <th>midfield_score</th>\n",
              "    </tr>\n",
              "  </thead>\n",
              "  <tbody>\n",
              "    <tr>\n",
              "      <th>0</th>\n",
              "      <td>Germany</td>\n",
              "      <td>2022-06-14</td>\n",
              "      <td>87.8</td>\n",
              "    </tr>\n",
              "    <tr>\n",
              "      <th>1</th>\n",
              "      <td>France</td>\n",
              "      <td>2022-06-13</td>\n",
              "      <td>86.8</td>\n",
              "    </tr>\n",
              "    <tr>\n",
              "      <th>2</th>\n",
              "      <td>Spain</td>\n",
              "      <td>2022-06-12</td>\n",
              "      <td>86.0</td>\n",
              "    </tr>\n",
              "    <tr>\n",
              "      <th>3</th>\n",
              "      <td>Belgium</td>\n",
              "      <td>2022-06-14</td>\n",
              "      <td>85.5</td>\n",
              "    </tr>\n",
              "    <tr>\n",
              "      <th>4</th>\n",
              "      <td>Brazil</td>\n",
              "      <td>2022-06-06</td>\n",
              "      <td>85.5</td>\n",
              "    </tr>\n",
              "    <tr>\n",
              "      <th>5</th>\n",
              "      <td>Portugal</td>\n",
              "      <td>2022-06-12</td>\n",
              "      <td>84.5</td>\n",
              "    </tr>\n",
              "    <tr>\n",
              "      <th>6</th>\n",
              "      <td>Italy</td>\n",
              "      <td>2022-06-14</td>\n",
              "      <td>84.5</td>\n",
              "    </tr>\n",
              "    <tr>\n",
              "      <th>7</th>\n",
              "      <td>Croatia</td>\n",
              "      <td>2022-06-13</td>\n",
              "      <td>84.2</td>\n",
              "    </tr>\n",
              "    <tr>\n",
              "      <th>8</th>\n",
              "      <td>England</td>\n",
              "      <td>2022-06-14</td>\n",
              "      <td>84.0</td>\n",
              "    </tr>\n",
              "    <tr>\n",
              "      <th>9</th>\n",
              "      <td>Argentina</td>\n",
              "      <td>2022-06-05</td>\n",
              "      <td>84.0</td>\n",
              "    </tr>\n",
              "  </tbody>\n",
              "</table>\n",
              "</div>"
            ],
            "text/plain": [
              "        team       date  midfield_score\n",
              "0    Germany 2022-06-14            87.8\n",
              "1     France 2022-06-13            86.8\n",
              "2      Spain 2022-06-12            86.0\n",
              "3    Belgium 2022-06-14            85.5\n",
              "4     Brazil 2022-06-06            85.5\n",
              "5   Portugal 2022-06-12            84.5\n",
              "6      Italy 2022-06-14            84.5\n",
              "7    Croatia 2022-06-13            84.2\n",
              "8    England 2022-06-14            84.0\n",
              "9  Argentina 2022-06-05            84.0"
            ]
          },
          "execution_count": 10,
          "metadata": {},
          "output_type": "execute_result"
        }
      ],
      "source": [
        "fifa_midfield = df[['date', 'home_team', 'away_team', 'home_team_mean_midfield_score', 'away_team_mean_midfield_score']]\n",
        "home = fifa_midfield[['date', 'home_team', 'home_team_mean_midfield_score']].rename(columns={\"home_team\":\"team\", \"home_team_mean_midfield_score\":\"midfield_score\"})\n",
        "away = fifa_midfield[['date', 'away_team', 'away_team_mean_midfield_score']].rename(columns={\"away_team\":\"team\", \"away_team_mean_midfield_score\":\"midfield_score\"})\n",
        "fifa_midfield = pd.concat([home,away])\n",
        "fifa_midfield = fifa_midfield.sort_values(['date','team'],ascending=[False,True])\n",
        "last_midfield = fifa_midfield\n",
        "fifa_midfield_top10 = fifa_midfield.groupby('team').first().sort_values('midfield_score',ascending=False)[0:10].reset_index()\n",
        "fifa_midfield_top10"
      ]
    },
    {
      "cell_type": "code",
      "execution_count": 11,
      "metadata": {
        "colab": {
          "base_uri": "https://localhost:8080/",
          "height": 304
        },
        "execution": {
          "iopub.execute_input": "2022-09-16T05:44:26.367307Z",
          "iopub.status.busy": "2022-09-16T05:44:26.366949Z",
          "iopub.status.idle": "2022-09-16T05:44:26.547587Z",
          "shell.execute_reply": "2022-09-16T05:44:26.546427Z",
          "shell.execute_reply.started": "2022-09-16T05:44:26.367282Z"
        },
        "id": "BjuoeAw0czy_",
        "outputId": "3f7adb75-779b-42c4-8c41-92a8f2aca651"
      },
      "outputs": [
        {
          "data": {
            "image/png": "[encoded data removed]",
            "text/plain": [
              "<Figure size 640x480 with 1 Axes>"
            ]
          },
          "metadata": {},
          "output_type": "display_data"
        }
      ],
      "source": [
        "sns.barplot(data=fifa_midfield_top10, x='midfield_score', y='team', color=\"#7F1431\")\n",
        "plt.xlabel('Midfield Score', size = 20) \n",
        "plt.ylabel('Team', size = 20) \n",
        "plt.title(\"Top 10 Midfield teams\");"
      ]
    },
    {
      "cell_type": "markdown",
      "metadata": {
        "id": "3IkYZ_x3czy_"
      },
      "source": [
        "### Top 10 defending teams in the last FIFA date"
      ]
    },
    {
      "cell_type": "code",
      "execution_count": 12,
      "metadata": {
        "colab": {
          "base_uri": "https://localhost:8080/",
          "height": 363
        },
        "execution": {
          "iopub.execute_input": "2022-09-16T05:44:45.218555Z",
          "iopub.status.busy": "2022-09-16T05:44:45.21825Z",
          "iopub.status.idle": "2022-09-16T05:44:45.261008Z",
          "shell.execute_reply": "2022-09-16T05:44:45.260102Z",
          "shell.execute_reply.started": "2022-09-16T05:44:45.218533Z"
        },
        "id": "UkuHfpMhczy_",
        "outputId": "01ddd2ee-0785-43da-aa8c-2d572eaf0a9d"
      },
      "outputs": [
        {
          "data": {
            "text/html": [
              "<div>\n",
              "<style scoped>\n",
              "    .dataframe tbody tr th:only-of-type {\n",
              "        vertical-align: middle;\n",
              "    }\n",
              "\n",
              "    .dataframe tbody tr th {\n",
              "        vertical-align: top;\n",
              "    }\n",
              "\n",
              "    .dataframe thead th {\n",
              "        text-align: right;\n",
              "    }\n",
              "</style>\n",
              "<table border=\"1\" class=\"dataframe\">\n",
              "  <thead>\n",
              "    <tr style=\"text-align: right;\">\n",
              "      <th></th>\n",
              "      <th>team</th>\n",
              "      <th>date</th>\n",
              "      <th>defense_score</th>\n",
              "    </tr>\n",
              "  </thead>\n",
              "  <tbody>\n",
              "    <tr>\n",
              "      <th>0</th>\n",
              "      <td>Spain</td>\n",
              "      <td>2022-06-12</td>\n",
              "      <td>86.5</td>\n",
              "    </tr>\n",
              "    <tr>\n",
              "      <th>1</th>\n",
              "      <td>Portugal</td>\n",
              "      <td>2022-06-12</td>\n",
              "      <td>85.2</td>\n",
              "    </tr>\n",
              "    <tr>\n",
              "      <th>2</th>\n",
              "      <td>Netherlands</td>\n",
              "      <td>2022-06-14</td>\n",
              "      <td>85.2</td>\n",
              "    </tr>\n",
              "    <tr>\n",
              "      <th>3</th>\n",
              "      <td>England</td>\n",
              "      <td>2022-06-14</td>\n",
              "      <td>85.0</td>\n",
              "    </tr>\n",
              "    <tr>\n",
              "      <th>4</th>\n",
              "      <td>Brazil</td>\n",
              "      <td>2022-06-06</td>\n",
              "      <td>84.8</td>\n",
              "    </tr>\n",
              "    <tr>\n",
              "      <th>5</th>\n",
              "      <td>Italy</td>\n",
              "      <td>2022-06-14</td>\n",
              "      <td>84.2</td>\n",
              "    </tr>\n",
              "    <tr>\n",
              "      <th>6</th>\n",
              "      <td>France</td>\n",
              "      <td>2022-06-13</td>\n",
              "      <td>84.2</td>\n",
              "    </tr>\n",
              "    <tr>\n",
              "      <th>7</th>\n",
              "      <td>Germany</td>\n",
              "      <td>2022-06-14</td>\n",
              "      <td>84.0</td>\n",
              "    </tr>\n",
              "    <tr>\n",
              "      <th>8</th>\n",
              "      <td>Argentina</td>\n",
              "      <td>2022-06-05</td>\n",
              "      <td>82.2</td>\n",
              "    </tr>\n",
              "    <tr>\n",
              "      <th>9</th>\n",
              "      <td>Uruguay</td>\n",
              "      <td>2022-06-11</td>\n",
              "      <td>81.2</td>\n",
              "    </tr>\n",
              "  </tbody>\n",
              "</table>\n",
              "</div>"
            ],
            "text/plain": [
              "          team       date  defense_score\n",
              "0        Spain 2022-06-12           86.5\n",
              "1     Portugal 2022-06-12           85.2\n",
              "2  Netherlands 2022-06-14           85.2\n",
              "3      England 2022-06-14           85.0\n",
              "4       Brazil 2022-06-06           84.8\n",
              "5        Italy 2022-06-14           84.2\n",
              "6       France 2022-06-13           84.2\n",
              "7      Germany 2022-06-14           84.0\n",
              "8    Argentina 2022-06-05           82.2\n",
              "9      Uruguay 2022-06-11           81.2"
            ]
          },
          "execution_count": 12,
          "metadata": {},
          "output_type": "execute_result"
        }
      ],
      "source": [
        "fifa_defense = df[['date', 'home_team', 'away_team', 'home_team_mean_defense_score', 'away_team_mean_defense_score']]\n",
        "home = fifa_defense[['date', 'home_team', 'home_team_mean_defense_score']].rename(columns={\"home_team\":\"team\", \"home_team_mean_defense_score\":\"defense_score\"})\n",
        "away = fifa_defense[['date', 'away_team', 'away_team_mean_defense_score']].rename(columns={\"away_team\":\"team\", \"away_team_mean_defense_score\":\"defense_score\"})\n",
        "fifa_defense = pd.concat([home, away])\n",
        "fifa_defense = fifa_defense.sort_values(['date', 'team'],ascending=[False, True])\n",
        "last_defense = fifa_defense \n",
        "fifa_defense_top10 = fifa_defense.groupby('team').first().sort_values('defense_score', ascending = False)[0:10].reset_index()\n",
        "fifa_defense_top10"
      ]
    },
    {
      "cell_type": "code",
      "execution_count": 13,
      "metadata": {
        "colab": {
          "base_uri": "https://localhost:8080/",
          "height": 322
        },
        "execution": {
          "iopub.execute_input": "2022-09-16T05:44:55.011233Z",
          "iopub.status.busy": "2022-09-16T05:44:55.010919Z",
          "iopub.status.idle": "2022-09-16T05:44:55.199813Z",
          "shell.execute_reply": "2022-09-16T05:44:55.198614Z",
          "shell.execute_reply.started": "2022-09-16T05:44:55.011209Z"
        },
        "id": "RSfavsT_czy_",
        "outputId": "e9e0ba1c-a8bd-4038-f993-76c85d509468"
      },
      "outputs": [
        {
          "data": {
            "text/plain": [
              "Text(0.5, 1.0, 'Top 10 Defense Teams')"
            ]
          },
          "execution_count": 13,
          "metadata": {},
          "output_type": "execute_result"
        },
        {
          "data": {
            "image/png": "[encoded data removed]",
            "text/plain": [
              "<Figure size 640x480 with 1 Axes>"
            ]
          },
          "metadata": {},
          "output_type": "display_data"
        }
      ],
      "source": [
        "sns.barplot(data = fifa_defense_top10, x='defense_score', y='team', color=\"#7F1431\")\n",
        "plt.xlabel('Defense Score', size = 20) \n",
        "plt.ylabel('Team', size = 20) \n",
        "plt.title(\"Top 10 Defense Teams\")"
      ]
    },
    {
      "cell_type": "markdown",
      "metadata": {
        "id": "Oux1hSuDczy_"
      },
      "source": [
        "# DATA PREPARATION AND FEATURE ENGINEERING\n",
        "In this section, we will fill in the empty fields in the dataset and clean up the data for teams that did not qualify for the World Cup. Finally, we will use the ratings of the teams in their last match to define the \"Last Team Scores\" dataset (i.e., the dataset that we will use to predict the World Cup matches)."
      ]
    },
    {
      "cell_type": "markdown",
      "metadata": {
        "id": "uu3CPfusl4Hu"
      },
      "source": [
        "### Analyze and fill na's"
      ]
    },
    {
      "cell_type": "code",
      "execution_count": 14,
      "metadata": {
        "colab": {
          "base_uri": "https://localhost:8080/"
        },
        "execution": {
          "iopub.execute_input": "2022-09-16T05:45:19.808183Z",
          "iopub.status.busy": "2022-09-16T05:45:19.807869Z",
          "iopub.status.idle": "2022-09-16T05:45:19.827135Z",
          "shell.execute_reply": "2022-09-16T05:45:19.826065Z",
          "shell.execute_reply.started": "2022-09-16T05:45:19.80816Z"
        },
        "id": "9YNw6WUNczzA",
        "outputId": "cc1058f1-9e83-4a57-9328-3a34f09e00ca"
      },
      "outputs": [
        {
          "data": {
            "text/plain": [
              "date                                 0\n",
              "home_team                            0\n",
              "away_team                            0\n",
              "home_team_continent                  0\n",
              "away_team_continent                  0\n",
              "home_team_fifa_rank                  0\n",
              "away_team_fifa_rank                  0\n",
              "home_team_total_fifa_points          0\n",
              "away_team_total_fifa_points          0\n",
              "home_team_score                      0\n",
              "away_team_score                      0\n",
              "tournament                           0\n",
              "city                                 0\n",
              "country                              0\n",
              "neutral_location                     0\n",
              "shoot_out                            0\n",
              "home_team_result                     0\n",
              "home_team_goalkeeper_score       15542\n",
              "away_team_goalkeeper_score       15826\n",
              "home_team_mean_defense_score     16134\n",
              "home_team_mean_offense_score     15411\n",
              "home_team_mean_midfield_score    15759\n",
              "away_team_mean_defense_score     16357\n",
              "away_team_mean_offense_score     15609\n",
              "away_team_mean_midfield_score    15942\n",
              "dtype: int64"
            ]
          },
          "execution_count": 14,
          "metadata": {},
          "output_type": "execute_result"
        }
      ],
      "source": [
        "df.isnull().sum()"
      ]
    },
    {
      "cell_type": "code",
      "execution_count": 15,
      "metadata": {
        "colab": {
          "base_uri": "https://localhost:8080/"
        },
        "execution": {
          "iopub.execute_input": "2022-09-16T05:45:31.403735Z",
          "iopub.status.busy": "2022-09-16T05:45:31.403327Z",
          "iopub.status.idle": "2022-09-16T05:45:31.422868Z",
          "shell.execute_reply": "2022-09-16T05:45:31.420628Z",
          "shell.execute_reply.started": "2022-09-16T05:45:31.403701Z"
        },
        "id": "2k2rkjh2czzA",
        "outputId": "a4bf36cf-50c6-4571-edc6-ae70687ff2c2"
      },
      "outputs": [
        {
          "data": {
            "text/plain": [
              "count    135.000000\n",
              "mean      86.074074\n",
              "std        3.327026\n",
              "min       82.000000\n",
              "25%       83.000000\n",
              "50%       86.000000\n",
              "75%       89.000000\n",
              "max       93.000000\n",
              "Name: home_team_goalkeeper_score, dtype: float64"
            ]
          },
          "execution_count": 15,
          "metadata": {},
          "output_type": "execute_result"
        }
      ],
      "source": [
        "# We can fill mean for na's in goal_keeper_score\n",
        "df[df['home_team'] == \"Brazil\"]['home_team_goalkeeper_score'].describe()"
      ]
    },
    {
      "cell_type": "code",
      "execution_count": 16,
      "metadata": {
        "execution": {
          "iopub.execute_input": "2022-09-16T05:45:41.400325Z",
          "iopub.status.busy": "2022-09-16T05:45:41.399865Z",
          "iopub.status.idle": "2022-09-16T05:45:41.511674Z",
          "shell.execute_reply": "2022-09-16T05:45:41.510542Z",
          "shell.execute_reply.started": "2022-09-16T05:45:41.400293Z"
        },
        "id": "vFeJ-l8YczzA"
      },
      "outputs": [],
      "source": [
        "df['home_team_goalkeeper_score'] = round(df.groupby(\"home_team\")[\"home_team_goalkeeper_score\"].transform(lambda x: x.fillna(x.mean())))\n",
        "df['away_team_goalkeeper_score'] = round(df.groupby(\"away_team\")[\"away_team_goalkeeper_score\"].transform(lambda x: x.fillna(x.mean())))"
      ]
    },
    {
      "cell_type": "code",
      "execution_count": 17,
      "metadata": {
        "colab": {
          "base_uri": "https://localhost:8080/"
        },
        "execution": {
          "iopub.execute_input": "2022-09-16T05:45:50.13293Z",
          "iopub.status.busy": "2022-09-16T05:45:50.132607Z",
          "iopub.status.idle": "2022-09-16T05:45:50.146759Z",
          "shell.execute_reply": "2022-09-16T05:45:50.145778Z",
          "shell.execute_reply.started": "2022-09-16T05:45:50.132907Z"
        },
        "id": "IFnXnqG8czzA",
        "outputId": "39f4772b-0d4c-4a85-9d0a-a61012064dfa"
      },
      "outputs": [
        {
          "data": {
            "text/plain": [
              "count    105.000000\n",
              "mean      76.580000\n",
              "std        5.589988\n",
              "min       58.500000\n",
              "25%       73.200000\n",
              "50%       76.500000\n",
              "75%       80.000000\n",
              "max       89.500000\n",
              "Name: home_team_mean_defense_score, dtype: float64"
            ]
          },
          "execution_count": 17,
          "metadata": {},
          "output_type": "execute_result"
        }
      ],
      "source": [
        "# We can fill mean for na's in defense score\n",
        "df[df['away_team'] == \"Uruguay\"]['home_team_mean_defense_score'].describe()"
      ]
    },
    {
      "cell_type": "code",
      "execution_count": 18,
      "metadata": {
        "execution": {
          "iopub.execute_input": "2022-09-16T05:46:00.576582Z",
          "iopub.status.busy": "2022-09-16T05:46:00.576243Z",
          "iopub.status.idle": "2022-09-16T05:46:00.685258Z",
          "shell.execute_reply": "2022-09-16T05:46:00.684354Z",
          "shell.execute_reply.started": "2022-09-16T05:46:00.576558Z"
        },
        "id": "ZmtoaYaLczzA"
      },
      "outputs": [],
      "source": [
        "df['home_team_mean_defense_score'] = round(df.groupby('home_team')['home_team_mean_defense_score'].transform(lambda x : x.fillna(x.mean())))\n",
        "df['away_team_mean_defense_score'] = round(df.groupby('away_team')['away_team_mean_defense_score'].transform(lambda x : x.fillna(x.mean())))"
      ]
    },
    {
      "cell_type": "code",
      "execution_count": 19,
      "metadata": {
        "colab": {
          "base_uri": "https://localhost:8080/"
        },
        "execution": {
          "iopub.execute_input": "2022-09-16T05:46:07.821016Z",
          "iopub.status.busy": "2022-09-16T05:46:07.820668Z",
          "iopub.status.idle": "2022-09-16T05:46:07.834065Z",
          "shell.execute_reply": "2022-09-16T05:46:07.833318Z",
          "shell.execute_reply.started": "2022-09-16T05:46:07.820993Z"
        },
        "id": "-zWUGSvPczzA",
        "outputId": "7be6e463-b2ff-42a0-8eba-ee91f510ecf7"
      },
      "outputs": [
        {
          "data": {
            "text/plain": [
              "count    117.000000\n",
              "mean      78.136752\n",
              "std        5.878813\n",
              "min       66.700000\n",
              "25%       74.000000\n",
              "50%       78.000000\n",
              "75%       82.300000\n",
              "max       90.300000\n",
              "Name: home_team_mean_offense_score, dtype: float64"
            ]
          },
          "execution_count": 19,
          "metadata": {},
          "output_type": "execute_result"
        }
      ],
      "source": [
        "# We can fill mean for na's in offense score\n",
        "df[df['away_team'] == \"Uruguay\"]['home_team_mean_offense_score'].describe()"
      ]
    },
    {
      "cell_type": "code",
      "execution_count": 20,
      "metadata": {
        "execution": {
          "iopub.execute_input": "2022-09-16T05:46:16.19468Z",
          "iopub.status.busy": "2022-09-16T05:46:16.194285Z",
          "iopub.status.idle": "2022-09-16T05:46:16.313984Z",
          "shell.execute_reply": "2022-09-16T05:46:16.312526Z",
          "shell.execute_reply.started": "2022-09-16T05:46:16.194646Z"
        },
        "id": "fgvgEg2kczzA"
      },
      "outputs": [],
      "source": [
        "df['home_team_mean_offense_score'] = round(df.groupby('home_team')['home_team_mean_offense_score'].transform(lambda x : x.fillna(x.mean())))\n",
        "df['away_team_mean_offense_score'] = round(df.groupby('away_team')['away_team_mean_offense_score'].transform(lambda x : x.fillna(x.mean())))"
      ]
    },
    {
      "cell_type": "code",
      "execution_count": 21,
      "metadata": {
        "colab": {
          "base_uri": "https://localhost:8080/"
        },
        "execution": {
          "iopub.execute_input": "2022-09-16T05:46:27.330951Z",
          "iopub.status.busy": "2022-09-16T05:46:27.330612Z",
          "iopub.status.idle": "2022-09-16T05:46:27.344112Z",
          "shell.execute_reply": "2022-09-16T05:46:27.343258Z",
          "shell.execute_reply.started": "2022-09-16T05:46:27.330928Z"
        },
        "id": "FIrZX23YczzA",
        "outputId": "1c172603-9206-4b94-a630-a214feb2404b"
      },
      "outputs": [
        {
          "data": {
            "text/plain": [
              "count    110.000000\n",
              "mean      77.729091\n",
              "std        5.656617\n",
              "min       63.200000\n",
              "25%       75.050000\n",
              "50%       77.650000\n",
              "75%       81.425000\n",
              "max       89.500000\n",
              "Name: home_team_mean_midfield_score, dtype: float64"
            ]
          },
          "execution_count": 21,
          "metadata": {},
          "output_type": "execute_result"
        }
      ],
      "source": [
        "# We can fill mean for na's in midfield score\n",
        "df[df['away_team'] == \"Uruguay\"]['home_team_mean_midfield_score'].describe()"
      ]
    },
    {
      "cell_type": "code",
      "execution_count": 22,
      "metadata": {
        "execution": {
          "iopub.execute_input": "2022-09-16T05:46:36.006525Z",
          "iopub.status.busy": "2022-09-16T05:46:36.006158Z",
          "iopub.status.idle": "2022-09-16T05:46:36.117942Z",
          "shell.execute_reply": "2022-09-16T05:46:36.117014Z",
          "shell.execute_reply.started": "2022-09-16T05:46:36.006484Z"
        },
        "id": "OckjU4rOczzA"
      },
      "outputs": [],
      "source": [
        "df['home_team_mean_midfield_score'] = round(df.groupby('home_team')['home_team_mean_midfield_score'].transform(lambda x : x.fillna(x.mean())))\n",
        "df['away_team_mean_midfield_score'] = round(df.groupby('away_team')['away_team_mean_midfield_score'].transform(lambda x : x.fillna(x.mean())))"
      ]
    },
    {
      "cell_type": "code",
      "execution_count": 23,
      "metadata": {
        "colab": {
          "base_uri": "https://localhost:8080/"
        },
        "execution": {
          "iopub.execute_input": "2022-09-16T05:46:43.401286Z",
          "iopub.status.busy": "2022-09-16T05:46:43.400953Z",
          "iopub.status.idle": "2022-09-16T05:46:43.417688Z",
          "shell.execute_reply": "2022-09-16T05:46:43.416931Z",
          "shell.execute_reply.started": "2022-09-16T05:46:43.40126Z"
        },
        "id": "tyhKCVFoczzA",
        "outputId": "25f9a740-d078-4979-9f54-74d984d410bb"
      },
      "outputs": [
        {
          "data": {
            "text/plain": [
              "date                                0\n",
              "home_team                           0\n",
              "away_team                           0\n",
              "home_team_continent                 0\n",
              "away_team_continent                 0\n",
              "home_team_fifa_rank                 0\n",
              "away_team_fifa_rank                 0\n",
              "home_team_total_fifa_points         0\n",
              "away_team_total_fifa_points         0\n",
              "home_team_score                     0\n",
              "away_team_score                     0\n",
              "tournament                          0\n",
              "city                                0\n",
              "country                             0\n",
              "neutral_location                    0\n",
              "shoot_out                           0\n",
              "home_team_result                    0\n",
              "home_team_goalkeeper_score       5683\n",
              "away_team_goalkeeper_score       6254\n",
              "home_team_mean_defense_score     8019\n",
              "home_team_mean_offense_score     6995\n",
              "home_team_mean_midfield_score    6955\n",
              "away_team_mean_defense_score     8285\n",
              "away_team_mean_offense_score     7165\n",
              "away_team_mean_midfield_score    7036\n",
              "dtype: int64"
            ]
          },
          "execution_count": 23,
          "metadata": {},
          "output_type": "execute_result"
        }
      ],
      "source": [
        "df.isnull().sum()"
      ]
    },
    {
      "cell_type": "code",
      "execution_count": 24,
      "metadata": {
        "execution": {
          "iopub.execute_input": "2022-09-16T05:47:12.483155Z",
          "iopub.status.busy": "2022-09-16T05:47:12.482755Z",
          "iopub.status.idle": "2022-09-16T05:47:12.586928Z",
          "shell.execute_reply": "2022-09-16T05:47:12.585971Z",
          "shell.execute_reply.started": "2022-09-16T05:47:12.483121Z"
        },
        "id": "3jyzMHpSczzA"
      },
      "outputs": [],
      "source": [
        "# Teams are not available in FIFA game itself, so they are not less than average performing teams, so giving a average score of 50 for all.\n",
        "df.fillna(50,inplace=True)"
      ]
    },
    {
      "cell_type": "markdown",
      "metadata": {
        "id": "o4eemYO6mKL4"
      },
      "source": [
        "### Filter the teams participating in QATAR - World cup 2022"
      ]
    },
    {
      "cell_type": "code",
      "execution_count": 25,
      "metadata": {
        "execution": {
          "iopub.execute_input": "2022-09-16T05:47:30.45566Z",
          "iopub.status.busy": "2022-09-16T05:47:30.455378Z",
          "iopub.status.idle": "2022-09-16T05:47:30.497311Z",
          "shell.execute_reply": "2022-09-16T05:47:30.496169Z",
          "shell.execute_reply.started": "2022-09-16T05:47:30.455636Z"
        },
        "id": "_8BI1emIczzB"
      },
      "outputs": [],
      "source": [
        "list_2022 = ['Qatar', 'Germany', 'Denmark', 'Brazil', 'France', 'Belgium', 'Croatia', 'Spain', 'Serbia', 'England', 'Switzerland', 'Netherlands', 'Argentina', 'IR Iran', 'Korea Republic', 'Japan', 'Saudi Arabia', 'Ecuador', 'Uruguay', 'Canada', 'Ghana', 'Senegal', 'Portugal', 'Poland', 'Tunisia', 'Morocco', 'Cameroon', 'USA', 'Mexico', 'Wales', 'Australia', 'Costa Rica']\n",
        "final_df = df[(df[\"home_team\"].apply(lambda x: x in list_2022)) | (df[\"away_team\"].apply(lambda x: x in list_2022))]"
      ]
    },
    {
      "cell_type": "markdown",
      "metadata": {
        "id": "o5J41BGZczzB"
      },
      "source": [
        "**Top 10 teams in QATAR 2022**"
      ]
    },
    {
      "cell_type": "code",
      "execution_count": 26,
      "metadata": {
        "colab": {
          "base_uri": "https://localhost:8080/",
          "height": 363
        },
        "execution": {
          "iopub.execute_input": "2022-09-16T05:48:04.872235Z",
          "iopub.status.busy": "2022-09-16T05:48:04.871784Z",
          "iopub.status.idle": "2022-09-16T05:48:04.907942Z",
          "shell.execute_reply": "2022-09-16T05:48:04.907081Z",
          "shell.execute_reply.started": "2022-09-16T05:48:04.872202Z"
        },
        "id": "jYol7gOqczzB",
        "outputId": "8ec527eb-dfcc-4f22-eff1-0bf7f75c7b17"
      },
      "outputs": [
        {
          "data": {
            "text/html": [
              "<div>\n",
              "<style scoped>\n",
              "    .dataframe tbody tr th:only-of-type {\n",
              "        vertical-align: middle;\n",
              "    }\n",
              "\n",
              "    .dataframe tbody tr th {\n",
              "        vertical-align: top;\n",
              "    }\n",
              "\n",
              "    .dataframe thead th {\n",
              "        text-align: right;\n",
              "    }\n",
              "</style>\n",
              "<table border=\"1\" class=\"dataframe\">\n",
              "  <thead>\n",
              "    <tr style=\"text-align: right;\">\n",
              "      <th></th>\n",
              "      <th>team</th>\n",
              "      <th>date</th>\n",
              "      <th>rank</th>\n",
              "    </tr>\n",
              "  </thead>\n",
              "  <tbody>\n",
              "    <tr>\n",
              "      <th>0</th>\n",
              "      <td>Brazil</td>\n",
              "      <td>2022-06-06</td>\n",
              "      <td>1</td>\n",
              "    </tr>\n",
              "    <tr>\n",
              "      <th>1</th>\n",
              "      <td>Belgium</td>\n",
              "      <td>2022-06-14</td>\n",
              "      <td>2</td>\n",
              "    </tr>\n",
              "    <tr>\n",
              "      <th>2</th>\n",
              "      <td>France</td>\n",
              "      <td>2022-06-13</td>\n",
              "      <td>3</td>\n",
              "    </tr>\n",
              "    <tr>\n",
              "      <th>3</th>\n",
              "      <td>Argentina</td>\n",
              "      <td>2022-06-05</td>\n",
              "      <td>4</td>\n",
              "    </tr>\n",
              "    <tr>\n",
              "      <th>4</th>\n",
              "      <td>England</td>\n",
              "      <td>2022-06-14</td>\n",
              "      <td>5</td>\n",
              "    </tr>\n",
              "    <tr>\n",
              "      <th>6</th>\n",
              "      <td>Spain</td>\n",
              "      <td>2022-06-12</td>\n",
              "      <td>7</td>\n",
              "    </tr>\n",
              "    <tr>\n",
              "      <th>7</th>\n",
              "      <td>Portugal</td>\n",
              "      <td>2022-06-12</td>\n",
              "      <td>8</td>\n",
              "    </tr>\n",
              "    <tr>\n",
              "      <th>8</th>\n",
              "      <td>Mexico</td>\n",
              "      <td>2022-06-14</td>\n",
              "      <td>9</td>\n",
              "    </tr>\n",
              "    <tr>\n",
              "      <th>9</th>\n",
              "      <td>Netherlands</td>\n",
              "      <td>2022-06-14</td>\n",
              "      <td>10</td>\n",
              "    </tr>\n",
              "    <tr>\n",
              "      <th>10</th>\n",
              "      <td>Denmark</td>\n",
              "      <td>2022-06-13</td>\n",
              "      <td>11</td>\n",
              "    </tr>\n",
              "  </tbody>\n",
              "</table>\n",
              "</div>"
            ],
            "text/plain": [
              "           team       date  rank\n",
              "0        Brazil 2022-06-06     1\n",
              "1       Belgium 2022-06-14     2\n",
              "2        France 2022-06-13     3\n",
              "3     Argentina 2022-06-05     4\n",
              "4       England 2022-06-14     5\n",
              "6         Spain 2022-06-12     7\n",
              "7      Portugal 2022-06-12     8\n",
              "8        Mexico 2022-06-14     9\n",
              "9   Netherlands 2022-06-14    10\n",
              "10      Denmark 2022-06-13    11"
            ]
          },
          "execution_count": 26,
          "metadata": {},
          "output_type": "execute_result"
        }
      ],
      "source": [
        "rank = final_df[['date','home_team','away_team','home_team_fifa_rank', 'away_team_fifa_rank']]\n",
        "home = rank[['date','home_team','home_team_fifa_rank']].rename(columns={\"home_team\":\"team\",\"home_team_fifa_rank\":\"rank\"})\n",
        "away = rank[['date','away_team','away_team_fifa_rank']].rename(columns={\"away_team\":\"team\",\"away_team_fifa_rank\":\"rank\"})\n",
        "rank = pd.concat([home,away])\n",
        "\n",
        "# Select each country latest match\n",
        "rank = rank.sort_values(['team','date'],ascending=[True,False])\n",
        "rank_top10 = rank.groupby('team').first().sort_values('rank',ascending=True).reset_index()\n",
        "rank_top10 = rank_top10[(rank_top10[\"team\"].apply(lambda x: x in list_2022))][0:10]\n",
        "rank_top10"
      ]
    },
    {
      "cell_type": "markdown",
      "metadata": {
        "id": "Ro9fGfmtrxsh"
      },
      "source": [
        "**Top 10 teams with the highest winning percentage in QATAR 2022**"
      ]
    },
    {
      "cell_type": "code",
      "execution_count": 27,
      "metadata": {
        "colab": {
          "base_uri": "https://localhost:8080/",
          "height": 363
        },
        "execution": {
          "iopub.execute_input": "2022-09-16T05:48:11.334009Z",
          "iopub.status.busy": "2022-09-16T05:48:11.333717Z",
          "iopub.status.idle": "2022-09-16T05:48:11.481754Z",
          "shell.execute_reply": "2022-09-16T05:48:11.480973Z",
          "shell.execute_reply.started": "2022-09-16T05:48:11.333987Z"
        },
        "id": "hxARVGK5czzB",
        "outputId": "46bc1966-39db-491c-def7-656d587b06c8"
      },
      "outputs": [
        {
          "data": {
            "text/html": [
              "<div>\n",
              "<style scoped>\n",
              "    .dataframe tbody tr th:only-of-type {\n",
              "        vertical-align: middle;\n",
              "    }\n",
              "\n",
              "    .dataframe tbody tr th {\n",
              "        vertical-align: top;\n",
              "    }\n",
              "\n",
              "    .dataframe thead th {\n",
              "        text-align: right;\n",
              "    }\n",
              "</style>\n",
              "<table border=\"1\" class=\"dataframe\">\n",
              "  <thead>\n",
              "    <tr style=\"text-align: right;\">\n",
              "      <th></th>\n",
              "      <th>team</th>\n",
              "      <th>date</th>\n",
              "      <th>rank</th>\n",
              "      <th>Home_win_Per</th>\n",
              "      <th>Away_win_Per</th>\n",
              "      <th>Average_win_Per</th>\n",
              "    </tr>\n",
              "  </thead>\n",
              "  <tbody>\n",
              "    <tr>\n",
              "      <th>0</th>\n",
              "      <td>Brazil</td>\n",
              "      <td>2022-06-06</td>\n",
              "      <td>1</td>\n",
              "      <td>78</td>\n",
              "      <td>60</td>\n",
              "      <td>69.0</td>\n",
              "    </tr>\n",
              "    <tr>\n",
              "      <th>6</th>\n",
              "      <td>Spain</td>\n",
              "      <td>2022-06-12</td>\n",
              "      <td>7</td>\n",
              "      <td>77</td>\n",
              "      <td>61</td>\n",
              "      <td>69.0</td>\n",
              "    </tr>\n",
              "    <tr>\n",
              "      <th>2</th>\n",
              "      <td>France</td>\n",
              "      <td>2022-06-13</td>\n",
              "      <td>3</td>\n",
              "      <td>66</td>\n",
              "      <td>57</td>\n",
              "      <td>62.0</td>\n",
              "    </tr>\n",
              "    <tr>\n",
              "      <th>3</th>\n",
              "      <td>Argentina</td>\n",
              "      <td>2022-06-05</td>\n",
              "      <td>4</td>\n",
              "      <td>68</td>\n",
              "      <td>49</td>\n",
              "      <td>58.0</td>\n",
              "    </tr>\n",
              "    <tr>\n",
              "      <th>4</th>\n",
              "      <td>England</td>\n",
              "      <td>2022-06-14</td>\n",
              "      <td>5</td>\n",
              "      <td>64</td>\n",
              "      <td>51</td>\n",
              "      <td>58.0</td>\n",
              "    </tr>\n",
              "    <tr>\n",
              "      <th>7</th>\n",
              "      <td>Portugal</td>\n",
              "      <td>2022-06-12</td>\n",
              "      <td>8</td>\n",
              "      <td>67</td>\n",
              "      <td>49</td>\n",
              "      <td>58.0</td>\n",
              "    </tr>\n",
              "    <tr>\n",
              "      <th>9</th>\n",
              "      <td>Netherlands</td>\n",
              "      <td>2022-06-14</td>\n",
              "      <td>10</td>\n",
              "      <td>62</td>\n",
              "      <td>55</td>\n",
              "      <td>58.0</td>\n",
              "    </tr>\n",
              "    <tr>\n",
              "      <th>1</th>\n",
              "      <td>Belgium</td>\n",
              "      <td>2022-06-14</td>\n",
              "      <td>2</td>\n",
              "      <td>60</td>\n",
              "      <td>46</td>\n",
              "      <td>53.0</td>\n",
              "    </tr>\n",
              "    <tr>\n",
              "      <th>8</th>\n",
              "      <td>Mexico</td>\n",
              "      <td>2022-06-14</td>\n",
              "      <td>9</td>\n",
              "      <td>60</td>\n",
              "      <td>41</td>\n",
              "      <td>50.0</td>\n",
              "    </tr>\n",
              "    <tr>\n",
              "      <th>10</th>\n",
              "      <td>Denmark</td>\n",
              "      <td>2022-06-13</td>\n",
              "      <td>11</td>\n",
              "      <td>56</td>\n",
              "      <td>45</td>\n",
              "      <td>50.0</td>\n",
              "    </tr>\n",
              "  </tbody>\n",
              "</table>\n",
              "</div>"
            ],
            "text/plain": [
              "           team       date  rank  Home_win_Per  Away_win_Per  Average_win_Per\n",
              "0        Brazil 2022-06-06     1            78            60             69.0\n",
              "6         Spain 2022-06-12     7            77            61             69.0\n",
              "2        France 2022-06-13     3            66            57             62.0\n",
              "3     Argentina 2022-06-05     4            68            49             58.0\n",
              "4       England 2022-06-14     5            64            51             58.0\n",
              "7      Portugal 2022-06-12     8            67            49             58.0\n",
              "9   Netherlands 2022-06-14    10            62            55             58.0\n",
              "1       Belgium 2022-06-14     2            60            46             53.0\n",
              "8        Mexico 2022-06-14     9            60            41             50.0\n",
              "10      Denmark 2022-06-13    11            56            45             50.0"
            ]
          },
          "execution_count": 27,
          "metadata": {},
          "output_type": "execute_result"
        }
      ],
      "source": [
        "rank_top10['Home_win_Per'] = np.vectorize(home_percentage)(rank_top10['team'])\n",
        "rank_top10['Away_win_Per'] = np.vectorize(away_percentage)(rank_top10['team'])\n",
        "rank_top10['Average_win_Per'] = round((rank_top10['Home_win_Per'] + rank_top10['Away_win_Per'])/2)\n",
        "rank_top10_Win = rank_top10.sort_values('Average_win_Per',ascending=False)\n",
        "rank_top10_Win"
      ]
    },
    {
      "cell_type": "code",
      "execution_count": 28,
      "metadata": {
        "colab": {
          "base_uri": "https://localhost:8080/",
          "height": 322
        },
        "execution": {
          "iopub.execute_input": "2022-09-16T05:48:19.991849Z",
          "iopub.status.busy": "2022-09-16T05:48:19.991516Z",
          "iopub.status.idle": "2022-09-16T05:48:20.193784Z",
          "shell.execute_reply": "2022-09-16T05:48:20.192252Z",
          "shell.execute_reply.started": "2022-09-16T05:48:19.991822Z"
        },
        "id": "QEAzw2oAczzB",
        "outputId": "65d0eba2-5d28-4af9-bbef-0a50f54ab3d0"
      },
      "outputs": [
        {
          "data": {
            "text/plain": [
              "Text(0.5, 1.0, 'Top 10 QATAR 2022 teams with the highest winning percentage')"
            ]
          },
          "execution_count": 28,
          "metadata": {},
          "output_type": "execute_result"
        },
        {
          "data": {
            "image/png": "[encoded data removed]",
            "text/plain": [
              "<Figure size 640x480 with 1 Axes>"
            ]
          },
          "metadata": {},
          "output_type": "display_data"
        }
      ],
      "source": [
        "sns.barplot(data=rank_top10_Win,x='Average_win_Per',y='team',color=\"#7F1431\")\n",
        "plt.xticks()\n",
        "plt.xlabel('Win Average', size = 20) \n",
        "plt.ylabel('Team', size = 20) \n",
        "plt.title('Top 10 QATAR 2022 teams with the highest winning percentage')"
      ]
    },
    {
      "cell_type": "markdown",
      "metadata": {
        "id": "DOCd7Joh1CYc"
      },
      "source": [
        "Dropping unnecessary colums."
      ]
    },
    {
      "cell_type": "code",
      "execution_count": 29,
      "metadata": {},
      "outputs": [],
      "source": [
        "# Mapping numeric values for home_team_result\n",
        "final_df['home_team_result'] = final_df['home_team_result'].map({'Win':1, 'Draw':2, 'Lose':0})"
      ]
    },
    {
      "cell_type": "code",
      "execution_count": 30,
      "metadata": {
        "id": "izXSRnBk5n1K"
      },
      "outputs": [],
      "source": [
        "#Dropping unnecessary colums\n",
        "final_df = final_df.drop(['date', 'home_team_continent', 'away_team_continent', 'home_team_total_fifa_points', 'away_team_total_fifa_points', 'home_team_score', 'away_team_score', 'tournament', 'city', 'country', 'neutral_location', 'shoot_out'],axis=1)"
      ]
    },
    {
      "cell_type": "code",
      "execution_count": 31,
      "metadata": {
        "colab": {
          "base_uri": "https://localhost:8080/"
        },
        "execution": {
          "iopub.execute_input": "2022-09-16T05:49:03.425873Z",
          "iopub.status.busy": "2022-09-16T05:49:03.425574Z",
          "iopub.status.idle": "2022-09-16T05:49:03.432142Z",
          "shell.execute_reply": "2022-09-16T05:49:03.431248Z",
          "shell.execute_reply.started": "2022-09-16T05:49:03.42585Z"
        },
        "id": "PHis1RgqczzB",
        "outputId": "07210637-d01e-4f48-87ea-0309498b21b9"
      },
      "outputs": [
        {
          "data": {
            "text/plain": [
              "Index(['home_team', 'away_team', 'home_team_fifa_rank', 'away_team_fifa_rank',\n",
              "       'home_team_result', 'home_team_goalkeeper_score',\n",
              "       'away_team_goalkeeper_score', 'home_team_mean_defense_score',\n",
              "       'home_team_mean_offense_score', 'home_team_mean_midfield_score',\n",
              "       'away_team_mean_defense_score', 'away_team_mean_offense_score',\n",
              "       'away_team_mean_midfield_score'],\n",
              "      dtype='object')"
            ]
          },
          "execution_count": 31,
          "metadata": {},
          "output_type": "execute_result"
        }
      ],
      "source": [
        "final_df.columns"
      ]
    },
    {
      "cell_type": "code",
      "execution_count": 32,
      "metadata": {
        "execution": {
          "iopub.execute_input": "2022-09-16T05:49:10.723944Z",
          "iopub.status.busy": "2022-09-16T05:49:10.723621Z",
          "iopub.status.idle": "2022-09-16T05:49:10.73044Z",
          "shell.execute_reply": "2022-09-16T05:49:10.729146Z",
          "shell.execute_reply.started": "2022-09-16T05:49:10.72392Z"
        },
        "id": "taJRn50YczzB"
      },
      "outputs": [],
      "source": [
        "# Change column names\n",
        "final_df.rename(columns={\"home_team\":\"Team1\", \"away_team\":\"Team2\", \"home_team_fifa_rank\":\"Team1_FIFA_RANK\", \n",
        "                         \"away_team_fifa_rank\":\"Team2_FIFA_RANK\", \"home_team_result\":\"Team1_Result\", \"home_team_goalkeeper_score\":\"Team1_Goalkeeper_Score\",\n",
        "                        \"away_team_goalkeeper_score\":\"Team2_Goalkeeper_Score\", \"home_team_mean_defense_score\":\"Team1_Defense\",\n",
        "                        \"home_team_mean_offense_score\":\"Team1_Offense\", \"home_team_mean_midfield_score\":\"Team1_Midfield\",\n",
        "                        \"away_team_mean_defense_score\":\"Team2_Defense\", \"away_team_mean_offense_score\":\"Team2_Offense\",\n",
        "                        \"away_team_mean_midfield_score\":\"Team2_Midfield\"}, inplace=True)"
      ]
    },
    {
      "cell_type": "code",
      "execution_count": 33,
      "metadata": {
        "colab": {
          "base_uri": "https://localhost:8080/",
          "height": 505
        },
        "id": "1st6r-I8dCOJ",
        "outputId": "36e53a7a-252a-47f3-ce63-a69ed86c30af"
      },
      "outputs": [
        {
          "data": {
            "text/html": [
              "<div>\n",
              "<style scoped>\n",
              "    .dataframe tbody tr th:only-of-type {\n",
              "        vertical-align: middle;\n",
              "    }\n",
              "\n",
              "    .dataframe tbody tr th {\n",
              "        vertical-align: top;\n",
              "    }\n",
              "\n",
              "    .dataframe thead th {\n",
              "        text-align: right;\n",
              "    }\n",
              "</style>\n",
              "<table border=\"1\" class=\"dataframe\">\n",
              "  <thead>\n",
              "    <tr style=\"text-align: right;\">\n",
              "      <th></th>\n",
              "      <th>Team1</th>\n",
              "      <th>Team2</th>\n",
              "      <th>Team1_FIFA_RANK</th>\n",
              "      <th>Team2_FIFA_RANK</th>\n",
              "      <th>Team1_Result</th>\n",
              "      <th>Team1_Goalkeeper_Score</th>\n",
              "      <th>Team2_Goalkeeper_Score</th>\n",
              "      <th>Team1_Defense</th>\n",
              "      <th>Team1_Offense</th>\n",
              "      <th>Team1_Midfield</th>\n",
              "      <th>Team2_Defense</th>\n",
              "      <th>Team2_Offense</th>\n",
              "      <th>Team2_Midfield</th>\n",
              "    </tr>\n",
              "  </thead>\n",
              "  <tbody>\n",
              "    <tr>\n",
              "      <th>0</th>\n",
              "      <td>Bolivia</td>\n",
              "      <td>Uruguay</td>\n",
              "      <td>59</td>\n",
              "      <td>22</td>\n",
              "      <td>1</td>\n",
              "      <td>67.0</td>\n",
              "      <td>79.0</td>\n",
              "      <td>67.0</td>\n",
              "      <td>69.0</td>\n",
              "      <td>68.0</td>\n",
              "      <td>80.0</td>\n",
              "      <td>83.0</td>\n",
              "      <td>79.0</td>\n",
              "    </tr>\n",
              "    <tr>\n",
              "      <th>1</th>\n",
              "      <td>Brazil</td>\n",
              "      <td>Mexico</td>\n",
              "      <td>8</td>\n",
              "      <td>14</td>\n",
              "      <td>2</td>\n",
              "      <td>86.0</td>\n",
              "      <td>79.0</td>\n",
              "      <td>86.0</td>\n",
              "      <td>86.0</td>\n",
              "      <td>85.0</td>\n",
              "      <td>77.0</td>\n",
              "      <td>79.0</td>\n",
              "      <td>78.0</td>\n",
              "    </tr>\n",
              "    <tr>\n",
              "      <th>2</th>\n",
              "      <td>Ecuador</td>\n",
              "      <td>Venezuela</td>\n",
              "      <td>35</td>\n",
              "      <td>94</td>\n",
              "      <td>1</td>\n",
              "      <td>71.0</td>\n",
              "      <td>68.0</td>\n",
              "      <td>71.0</td>\n",
              "      <td>75.0</td>\n",
              "      <td>75.0</td>\n",
              "      <td>72.0</td>\n",
              "      <td>75.0</td>\n",
              "      <td>73.0</td>\n",
              "    </tr>\n",
              "    <tr>\n",
              "      <th>4</th>\n",
              "      <td>Paraguay</td>\n",
              "      <td>Argentina</td>\n",
              "      <td>67</td>\n",
              "      <td>5</td>\n",
              "      <td>0</td>\n",
              "      <td>74.0</td>\n",
              "      <td>81.0</td>\n",
              "      <td>75.0</td>\n",
              "      <td>78.0</td>\n",
              "      <td>74.0</td>\n",
              "      <td>83.0</td>\n",
              "      <td>88.0</td>\n",
              "      <td>85.0</td>\n",
              "    </tr>\n",
              "    <tr>\n",
              "      <th>9</th>\n",
              "      <td>Sweden</td>\n",
              "      <td>Switzerland</td>\n",
              "      <td>4</td>\n",
              "      <td>3</td>\n",
              "      <td>0</td>\n",
              "      <td>76.0</td>\n",
              "      <td>81.0</td>\n",
              "      <td>77.0</td>\n",
              "      <td>81.0</td>\n",
              "      <td>78.0</td>\n",
              "      <td>78.0</td>\n",
              "      <td>76.0</td>\n",
              "      <td>79.0</td>\n",
              "    </tr>\n",
              "    <tr>\n",
              "      <th>...</th>\n",
              "      <td>...</td>\n",
              "      <td>...</td>\n",
              "      <td>...</td>\n",
              "      <td>...</td>\n",
              "      <td>...</td>\n",
              "      <td>...</td>\n",
              "      <td>...</td>\n",
              "      <td>...</td>\n",
              "      <td>...</td>\n",
              "      <td>...</td>\n",
              "      <td>...</td>\n",
              "      <td>...</td>\n",
              "      <td>...</td>\n",
              "    </tr>\n",
              "    <tr>\n",
              "      <th>23908</th>\n",
              "      <td>Netherlands</td>\n",
              "      <td>Wales</td>\n",
              "      <td>10</td>\n",
              "      <td>18</td>\n",
              "      <td>1</td>\n",
              "      <td>81.0</td>\n",
              "      <td>74.0</td>\n",
              "      <td>85.0</td>\n",
              "      <td>83.0</td>\n",
              "      <td>84.0</td>\n",
              "      <td>75.0</td>\n",
              "      <td>73.0</td>\n",
              "      <td>78.0</td>\n",
              "    </tr>\n",
              "    <tr>\n",
              "      <th>23909</th>\n",
              "      <td>Poland</td>\n",
              "      <td>Belgium</td>\n",
              "      <td>26</td>\n",
              "      <td>2</td>\n",
              "      <td>0</td>\n",
              "      <td>87.0</td>\n",
              "      <td>89.0</td>\n",
              "      <td>75.0</td>\n",
              "      <td>85.0</td>\n",
              "      <td>76.0</td>\n",
              "      <td>81.0</td>\n",
              "      <td>86.0</td>\n",
              "      <td>86.0</td>\n",
              "    </tr>\n",
              "    <tr>\n",
              "      <th>23918</th>\n",
              "      <td>Chile</td>\n",
              "      <td>Ghana</td>\n",
              "      <td>28</td>\n",
              "      <td>60</td>\n",
              "      <td>0</td>\n",
              "      <td>79.0</td>\n",
              "      <td>74.0</td>\n",
              "      <td>76.0</td>\n",
              "      <td>77.0</td>\n",
              "      <td>78.0</td>\n",
              "      <td>76.0</td>\n",
              "      <td>76.0</td>\n",
              "      <td>78.0</td>\n",
              "    </tr>\n",
              "    <tr>\n",
              "      <th>23919</th>\n",
              "      <td>Japan</td>\n",
              "      <td>Tunisia</td>\n",
              "      <td>23</td>\n",
              "      <td>35</td>\n",
              "      <td>0</td>\n",
              "      <td>73.0</td>\n",
              "      <td>64.0</td>\n",
              "      <td>75.0</td>\n",
              "      <td>75.0</td>\n",
              "      <td>78.0</td>\n",
              "      <td>71.0</td>\n",
              "      <td>72.0</td>\n",
              "      <td>74.0</td>\n",
              "    </tr>\n",
              "    <tr>\n",
              "      <th>23920</th>\n",
              "      <td>Korea Republic</td>\n",
              "      <td>Egypt</td>\n",
              "      <td>29</td>\n",
              "      <td>32</td>\n",
              "      <td>1</td>\n",
              "      <td>75.0</td>\n",
              "      <td>70.0</td>\n",
              "      <td>73.0</td>\n",
              "      <td>80.0</td>\n",
              "      <td>74.0</td>\n",
              "      <td>70.0</td>\n",
              "      <td>79.0</td>\n",
              "      <td>71.0</td>\n",
              "    </tr>\n",
              "  </tbody>\n",
              "</table>\n",
              "<p>9321 rows × 13 columns</p>\n",
              "</div>"
            ],
            "text/plain": [
              "                Team1        Team2  Team1_FIFA_RANK  Team2_FIFA_RANK  \\\n",
              "0             Bolivia      Uruguay               59               22   \n",
              "1              Brazil       Mexico                8               14   \n",
              "2             Ecuador    Venezuela               35               94   \n",
              "4            Paraguay    Argentina               67                5   \n",
              "9              Sweden  Switzerland                4                3   \n",
              "...               ...          ...              ...              ...   \n",
              "23908     Netherlands        Wales               10               18   \n",
              "23909          Poland      Belgium               26                2   \n",
              "23918           Chile        Ghana               28               60   \n",
              "23919           Japan      Tunisia               23               35   \n",
              "23920  Korea Republic        Egypt               29               32   \n",
              "\n",
              "       Team1_Result  Team1_Goalkeeper_Score  Team2_Goalkeeper_Score  \\\n",
              "0                 1                    67.0                    79.0   \n",
              "1                 2                    86.0                    79.0   \n",
              "2                 1                    71.0                    68.0   \n",
              "4                 0                    74.0                    81.0   \n",
              "9                 0                    76.0                    81.0   \n",
              "...             ...                     ...                     ...   \n",
              "23908             1                    81.0                    74.0   \n",
              "23909             0                    87.0                    89.0   \n",
              "23918             0                    79.0                    74.0   \n",
              "23919             0                    73.0                    64.0   \n",
              "23920             1                    75.0                    70.0   \n",
              "\n",
              "       Team1_Defense  Team1_Offense  Team1_Midfield  Team2_Defense  \\\n",
              "0               67.0           69.0            68.0           80.0   \n",
              "1               86.0           86.0            85.0           77.0   \n",
              "2               71.0           75.0            75.0           72.0   \n",
              "4               75.0           78.0            74.0           83.0   \n",
              "9               77.0           81.0            78.0           78.0   \n",
              "...              ...            ...             ...            ...   \n",
              "23908           85.0           83.0            84.0           75.0   \n",
              "23909           75.0           85.0            76.0           81.0   \n",
              "23918           76.0           77.0            78.0           76.0   \n",
              "23919           75.0           75.0            78.0           71.0   \n",
              "23920           73.0           80.0            74.0           70.0   \n",
              "\n",
              "       Team2_Offense  Team2_Midfield  \n",
              "0               83.0            79.0  \n",
              "1               79.0            78.0  \n",
              "2               75.0            73.0  \n",
              "4               88.0            85.0  \n",
              "9               76.0            79.0  \n",
              "...              ...             ...  \n",
              "23908           73.0            78.0  \n",
              "23909           86.0            86.0  \n",
              "23918           76.0            78.0  \n",
              "23919           72.0            74.0  \n",
              "23920           79.0            71.0  \n",
              "\n",
              "[9321 rows x 13 columns]"
            ]
          },
          "execution_count": 33,
          "metadata": {},
          "output_type": "execute_result"
        }
      ],
      "source": [
        "final_df"
      ]
    },
    {
      "cell_type": "markdown",
      "metadata": {
        "id": "ODvtpbrbz3Ui"
      },
      "source": [
        "Exporting the training dataset."
      ]
    },
    {
      "cell_type": "code",
      "execution_count": 34,
      "metadata": {
        "id": "yExreJrr5H-G"
      },
      "outputs": [],
      "source": [
        "final_df.to_csv(\"data/training.csv\", index = False)"
      ]
    },
    {
      "cell_type": "markdown",
      "metadata": {
        "id": "ztEdYY8VMHeT"
      },
      "source": [
        "### Creating \"Last Team Scores\" dataset\n",
        "This dataset contains the qualifications of each team on the previous FIFA date and will be used to predict the World Cup matches."
      ]
    },
    {
      "cell_type": "code",
      "execution_count": 35,
      "metadata": {
        "colab": {
          "base_uri": "https://localhost:8080/",
          "height": 206
        },
        "id": "DVoNJ6acMF4_",
        "outputId": "d339d098-91fc-434d-ca21-e6830d5aa31d"
      },
      "outputs": [
        {
          "data": {
            "text/html": [
              "<div>\n",
              "<style scoped>\n",
              "    .dataframe tbody tr th:only-of-type {\n",
              "        vertical-align: middle;\n",
              "    }\n",
              "\n",
              "    .dataframe tbody tr th {\n",
              "        vertical-align: top;\n",
              "    }\n",
              "\n",
              "    .dataframe thead th {\n",
              "        text-align: right;\n",
              "    }\n",
              "</style>\n",
              "<table border=\"1\" class=\"dataframe\">\n",
              "  <thead>\n",
              "    <tr style=\"text-align: right;\">\n",
              "      <th></th>\n",
              "      <th>team</th>\n",
              "      <th>date</th>\n",
              "      <th>rank</th>\n",
              "      <th>goalkeeper_score</th>\n",
              "      <th>defense_score</th>\n",
              "      <th>offense_score</th>\n",
              "      <th>midfield_score</th>\n",
              "    </tr>\n",
              "  </thead>\n",
              "  <tbody>\n",
              "    <tr>\n",
              "      <th>0</th>\n",
              "      <td>Argentina</td>\n",
              "      <td>2022-06-05</td>\n",
              "      <td>4</td>\n",
              "      <td>84.0</td>\n",
              "      <td>82.0</td>\n",
              "      <td>89.0</td>\n",
              "      <td>84.0</td>\n",
              "    </tr>\n",
              "    <tr>\n",
              "      <th>1</th>\n",
              "      <td>Australia</td>\n",
              "      <td>2022-06-13</td>\n",
              "      <td>42</td>\n",
              "      <td>77.0</td>\n",
              "      <td>72.0</td>\n",
              "      <td>72.0</td>\n",
              "      <td>74.0</td>\n",
              "    </tr>\n",
              "    <tr>\n",
              "      <th>2</th>\n",
              "      <td>Belgium</td>\n",
              "      <td>2022-06-14</td>\n",
              "      <td>2</td>\n",
              "      <td>89.0</td>\n",
              "      <td>81.0</td>\n",
              "      <td>86.0</td>\n",
              "      <td>86.0</td>\n",
              "    </tr>\n",
              "    <tr>\n",
              "      <th>3</th>\n",
              "      <td>Brazil</td>\n",
              "      <td>2022-06-06</td>\n",
              "      <td>1</td>\n",
              "      <td>89.0</td>\n",
              "      <td>85.0</td>\n",
              "      <td>86.0</td>\n",
              "      <td>86.0</td>\n",
              "    </tr>\n",
              "    <tr>\n",
              "      <th>4</th>\n",
              "      <td>Cameroon</td>\n",
              "      <td>2022-06-09</td>\n",
              "      <td>37</td>\n",
              "      <td>67.0</td>\n",
              "      <td>77.0</td>\n",
              "      <td>78.0</td>\n",
              "      <td>75.0</td>\n",
              "    </tr>\n",
              "  </tbody>\n",
              "</table>\n",
              "</div>"
            ],
            "text/plain": [
              "        team       date  rank  goalkeeper_score  defense_score  offense_score  \\\n",
              "0  Argentina 2022-06-05     4              84.0           82.0           89.0   \n",
              "1  Australia 2022-06-13    42              77.0           72.0           72.0   \n",
              "2    Belgium 2022-06-14     2              89.0           81.0           86.0   \n",
              "3     Brazil 2022-06-06     1              89.0           85.0           86.0   \n",
              "4   Cameroon 2022-06-09    37              67.0           77.0           78.0   \n",
              "\n",
              "   midfield_score  \n",
              "0            84.0  \n",
              "1            74.0  \n",
              "2            86.0  \n",
              "3            86.0  \n",
              "4            75.0  "
            ]
          },
          "execution_count": 35,
          "metadata": {},
          "output_type": "execute_result"
        }
      ],
      "source": [
        "last_goalkeeper = df[['date', 'home_team', 'away_team', 'home_team_goalkeeper_score', 'away_team_goalkeeper_score']]\n",
        "home = last_goalkeeper[['date', 'home_team', 'home_team_goalkeeper_score']].rename(columns={\"home_team\":\"team\", \"home_team_goalkeeper_score\":\"goalkeeper_score\"})\n",
        "away = last_goalkeeper[['date', 'away_team', 'away_team_goalkeeper_score']].rename(columns={\"away_team\":\"team\", \"away_team_goalkeeper_score\":\"goalkeeper_score\"})\n",
        "last_goalkeeper = pd.concat([home,away])\n",
        "\n",
        "last_goalkeeper = last_goalkeeper.sort_values(['date', 'team'],ascending=[False, True])\n",
        "\n",
        "list_2022 = ['Qatar', 'Germany', 'Denmark', 'Brazil', 'France', 'Belgium', 'Croatia', 'Spain', 'Serbia', 'England', 'Switzerland', 'Netherlands', 'Argentina', 'IR Iran', 'Korea Republic', 'Japan', 'Saudi Arabia', 'Ecuador', 'Uruguay', 'Canada', 'Ghana', 'Senegal', 'Portugal', 'Poland', 'Tunisia', 'Morocco', 'Cameroon', 'USA', 'Mexico', 'Wales', 'Australia', 'Costa Rica']\n",
        "\n",
        "rank_qatar = last_rank[(last_rank[\"team\"].apply(lambda x: x in list_2022))]\n",
        "rank_qatar = rank_qatar.groupby('team').first().reset_index()\n",
        "goal_qatar = last_goalkeeper[(last_goalkeeper[\"team\"].apply(lambda x: x in list_2022))]\n",
        "goal_qatar = goal_qatar.groupby('team').first().reset_index()\n",
        "goal_qatar = goal_qatar.drop(['date'], axis = 1)\n",
        "off_qatar = last_offense[(last_offense[\"team\"].apply(lambda x: x in list_2022))]\n",
        "off_qatar = off_qatar.groupby('team').first().reset_index()\n",
        "off_qatar = off_qatar.drop(['date'], axis = 1)\n",
        "mid_qatar = last_midfield[(last_midfield[\"team\"].apply(lambda x: x in list_2022))]\n",
        "mid_qatar = mid_qatar.groupby('team').first().reset_index()\n",
        "mid_qatar = mid_qatar.drop(['date'], axis = 1)\n",
        "def_qatar = last_defense[(last_defense[\"team\"].apply(lambda x: x in list_2022))]\n",
        "def_qatar = def_qatar.groupby('team').first().reset_index()\n",
        "def_qatar = def_qatar.drop(['date'], axis = 1)\n",
        "\n",
        "qatar = pd.merge(rank_qatar, goal_qatar, on = 'team')\n",
        "qatar = pd.merge(qatar, def_qatar, on ='team')\n",
        "qatar = pd.merge(qatar, off_qatar, on ='team')\n",
        "qatar = pd.merge(qatar, mid_qatar, on ='team')\n",
        "\n",
        "qatar['goalkeeper_score'] = round(qatar[\"goalkeeper_score\"].transform(lambda x: x.fillna(x.mean())))\n",
        "qatar['offense_score'] = round(qatar[\"offense_score\"].transform(lambda x: x.fillna(x.mean())))\n",
        "qatar['midfield_score'] = round(qatar[\"midfield_score\"].transform(lambda x: x.fillna(x.mean())))\n",
        "qatar['defense_score'] = round(qatar[\"defense_score\"].transform(lambda x: x.fillna(x.mean())))\n",
        "qatar.head(5)"
      ]
    },
    {
      "cell_type": "markdown",
      "metadata": {
        "id": "jpEwbIaM6NhY"
      },
      "source": [
        "Exporting the \"Last Team Scores\" dataset."
      ]
    },
    {
      "cell_type": "code",
      "execution_count": 36,
      "metadata": {
        "id": "fs3i-xDS6Zop"
      },
      "outputs": [],
      "source": [
        "qatar.to_csv(\"data/last_team_scores.csv\", index = False)"
      ]
    }
  ],
  "metadata": {
    "colab": {
      "collapsed_sections": [
        "o4eemYO6mKL4"
      ],
      "include_colab_link": true,
      "provenance": []
    },
    "kernelspec": {
      "display_name": "Python 3.9.13 ('base')",
      "language": "python",
      "name": "python3"
    },
    "language_info": {
      "codemirror_mode": {
        "name": "ipython",
        "version": 3
      },
      "file_extension": ".py",
      "mimetype": "text/x-python",
      "name": "python",
      "nbconvert_exporter": "python",
      "pygments_lexer": "ipython3",
      "version": "3.9.13"
    },
    "vscode": {
      "interpreter": {
        "hash": "d4d1e4263499bec80672ea0156c357c1ee493ec2b1c70f0acce89fc37c4a6abe"
      }
    }
  },
  "nbformat": 4,
  "nbformat_minor": 0
}
