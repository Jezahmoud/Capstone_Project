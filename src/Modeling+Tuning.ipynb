{
  "cells": [
    {
      "cell_type": "markdown",
      "metadata": {},
      "source": [
        "# Modeling + Tuning"
      ]
    },
    {
      "cell_type": "markdown",
      "metadata": {
        "id": "xgRGGMJ00hy1"
      },
      "source": [
        "- GROUP STAGE MODELING\n",
        "\n",
        "- KNOCKOUT STAGE MODELING"
      ]
    },
    {
      "cell_type": "code",
      "execution_count": 120,
      "metadata": {
        "_cell_guid": "b1076dfc-b9ad-4769-8c92-a6c4dae69d19",
        "_uuid": "8f2839f25d086af736a60e9eeb907d3b93b6e0e5",
        "execution": {
          "iopub.execute_input": "2022-09-16T05:39:39.646382Z",
          "iopub.status.busy": "2022-09-16T05:39:39.646004Z",
          "iopub.status.idle": "2022-09-16T05:39:40.126489Z",
          "shell.execute_reply": "2022-09-16T05:39:40.125346Z",
          "shell.execute_reply.started": "2022-09-16T05:39:39.646359Z"
        },
        "id": "bR2H_TM4czyy"
      },
      "outputs": [],
      "source": [
        "import numpy as np \n",
        "import pandas as pd\n",
        "import matplotlib.pyplot as plt\n",
        "import seaborn as sns\n",
        "import os"
      ]
    },
    {
      "cell_type": "code",
      "execution_count": 300,
      "metadata": {
        "colab": {
          "base_uri": "https://localhost:8080/",
          "height": 287
        },
        "execution": {
          "iopub.execute_input": "2022-09-16T05:38:38.577404Z",
          "iopub.status.busy": "2022-09-16T05:38:38.57718Z",
          "iopub.status.idle": "2022-09-16T05:38:38.727653Z",
          "shell.execute_reply": "2022-09-16T05:38:38.726679Z",
          "shell.execute_reply.started": "2022-09-16T05:38:38.577382Z"
        },
        "id": "XxuELMU5czy7",
        "outputId": "03487840-f52a-47cd-bb39-30d27b205c82"
      },
      "outputs": [
        {
          "data": {
            "text/html": [
              "<div>\n",
              "<style scoped>\n",
              "    .dataframe tbody tr th:only-of-type {\n",
              "        vertical-align: middle;\n",
              "    }\n",
              "\n",
              "    .dataframe tbody tr th {\n",
              "        vertical-align: top;\n",
              "    }\n",
              "\n",
              "    .dataframe thead th {\n",
              "        text-align: right;\n",
              "    }\n",
              "</style>\n",
              "<table border=\"1\" class=\"dataframe\">\n",
              "  <thead>\n",
              "    <tr style=\"text-align: right;\">\n",
              "      <th></th>\n",
              "      <th>Team1</th>\n",
              "      <th>Team2</th>\n",
              "      <th>Team1_FIFA_RANK</th>\n",
              "      <th>Team2_FIFA_RANK</th>\n",
              "      <th>Team1_Result</th>\n",
              "      <th>Team1_Goalkeeper_Score</th>\n",
              "      <th>Team2_Goalkeeper_Score</th>\n",
              "      <th>Team1_Defense</th>\n",
              "      <th>Team1_Offense</th>\n",
              "      <th>Team1_Midfield</th>\n",
              "      <th>Team2_Defense</th>\n",
              "      <th>Team2_Offense</th>\n",
              "      <th>Team2_Midfield</th>\n",
              "    </tr>\n",
              "  </thead>\n",
              "  <tbody>\n",
              "    <tr>\n",
              "      <th>9316</th>\n",
              "      <td>Netherlands</td>\n",
              "      <td>Wales</td>\n",
              "      <td>10</td>\n",
              "      <td>18</td>\n",
              "      <td>1</td>\n",
              "      <td>81.0</td>\n",
              "      <td>74.0</td>\n",
              "      <td>85.0</td>\n",
              "      <td>83.0</td>\n",
              "      <td>84.0</td>\n",
              "      <td>75.0</td>\n",
              "      <td>73.0</td>\n",
              "      <td>78.0</td>\n",
              "    </tr>\n",
              "    <tr>\n",
              "      <th>9317</th>\n",
              "      <td>Poland</td>\n",
              "      <td>Belgium</td>\n",
              "      <td>26</td>\n",
              "      <td>2</td>\n",
              "      <td>0</td>\n",
              "      <td>87.0</td>\n",
              "      <td>89.0</td>\n",
              "      <td>75.0</td>\n",
              "      <td>85.0</td>\n",
              "      <td>76.0</td>\n",
              "      <td>81.0</td>\n",
              "      <td>86.0</td>\n",
              "      <td>86.0</td>\n",
              "    </tr>\n",
              "    <tr>\n",
              "      <th>9318</th>\n",
              "      <td>Chile</td>\n",
              "      <td>Ghana</td>\n",
              "      <td>28</td>\n",
              "      <td>60</td>\n",
              "      <td>0</td>\n",
              "      <td>79.0</td>\n",
              "      <td>74.0</td>\n",
              "      <td>76.0</td>\n",
              "      <td>77.0</td>\n",
              "      <td>78.0</td>\n",
              "      <td>76.0</td>\n",
              "      <td>76.0</td>\n",
              "      <td>78.0</td>\n",
              "    </tr>\n",
              "    <tr>\n",
              "      <th>9319</th>\n",
              "      <td>Japan</td>\n",
              "      <td>Tunisia</td>\n",
              "      <td>23</td>\n",
              "      <td>35</td>\n",
              "      <td>0</td>\n",
              "      <td>73.0</td>\n",
              "      <td>64.0</td>\n",
              "      <td>75.0</td>\n",
              "      <td>75.0</td>\n",
              "      <td>78.0</td>\n",
              "      <td>71.0</td>\n",
              "      <td>72.0</td>\n",
              "      <td>74.0</td>\n",
              "    </tr>\n",
              "    <tr>\n",
              "      <th>9320</th>\n",
              "      <td>Korea Republic</td>\n",
              "      <td>Egypt</td>\n",
              "      <td>29</td>\n",
              "      <td>32</td>\n",
              "      <td>1</td>\n",
              "      <td>75.0</td>\n",
              "      <td>70.0</td>\n",
              "      <td>73.0</td>\n",
              "      <td>80.0</td>\n",
              "      <td>74.0</td>\n",
              "      <td>70.0</td>\n",
              "      <td>79.0</td>\n",
              "      <td>71.0</td>\n",
              "    </tr>\n",
              "  </tbody>\n",
              "</table>\n",
              "</div>"
            ],
            "text/plain": [
              "               Team1    Team2  Team1_FIFA_RANK  Team2_FIFA_RANK  Team1_Result  \\\n",
              "9316     Netherlands    Wales               10               18             1   \n",
              "9317          Poland  Belgium               26                2             0   \n",
              "9318           Chile    Ghana               28               60             0   \n",
              "9319           Japan  Tunisia               23               35             0   \n",
              "9320  Korea Republic    Egypt               29               32             1   \n",
              "\n",
              "      Team1_Goalkeeper_Score  Team2_Goalkeeper_Score  Team1_Defense  \\\n",
              "9316                    81.0                    74.0           85.0   \n",
              "9317                    87.0                    89.0           75.0   \n",
              "9318                    79.0                    74.0           76.0   \n",
              "9319                    73.0                    64.0           75.0   \n",
              "9320                    75.0                    70.0           73.0   \n",
              "\n",
              "      Team1_Offense  Team1_Midfield  Team2_Defense  Team2_Offense  \\\n",
              "9316           83.0            84.0           75.0           73.0   \n",
              "9317           85.0            76.0           81.0           86.0   \n",
              "9318           77.0            78.0           76.0           76.0   \n",
              "9319           75.0            78.0           71.0           72.0   \n",
              "9320           80.0            74.0           70.0           79.0   \n",
              "\n",
              "      Team2_Midfield  \n",
              "9316            78.0  \n",
              "9317            86.0  \n",
              "9318            78.0  \n",
              "9319            74.0  \n",
              "9320            71.0  "
            ]
          },
          "execution_count": 300,
          "metadata": {},
          "output_type": "execute_result"
        }
      ],
      "source": [
        "final_df = pd.read_csv('data/training.csv')\n",
        "final_df.tail()"
      ]
    },
    {
      "cell_type": "code",
      "execution_count": 301,
      "metadata": {},
      "outputs": [
        {
          "data": {
            "text/plain": [
              "(9321, 13)"
            ]
          },
          "execution_count": 301,
          "metadata": {},
          "output_type": "execute_result"
        }
      ],
      "source": [
        "final_df.shape"
      ]
    },
    {
      "cell_type": "code",
      "execution_count": 302,
      "metadata": {},
      "outputs": [
        {
          "data": {
            "text/plain": [
              "Index(['Team1', 'Team2', 'Team1_FIFA_RANK', 'Team2_FIFA_RANK', 'Team1_Result',\n",
              "       'Team1_Goalkeeper_Score', 'Team2_Goalkeeper_Score', 'Team1_Defense',\n",
              "       'Team1_Offense', 'Team1_Midfield', 'Team2_Defense', 'Team2_Offense',\n",
              "       'Team2_Midfield'],\n",
              "      dtype='object')"
            ]
          },
          "execution_count": 302,
          "metadata": {},
          "output_type": "execute_result"
        }
      ],
      "source": [
        "final_df.columns"
      ]
    },
    {
      "cell_type": "markdown",
      "metadata": {
        "id": "yi6cHFL_Yqhd"
      },
      "source": [
        "# GROUP STAGE MODELING"
      ]
    },
    {
      "cell_type": "markdown",
      "metadata": {
        "id": "FEYek9oklogj"
      },
      "source": [
        "### Choosing a model"
      ]
    },
    {
      "cell_type": "code",
      "execution_count": 265,
      "metadata": {
        "execution": {
          "iopub.execute_input": "2022-09-16T05:49:54.812466Z",
          "iopub.status.busy": "2022-09-16T05:49:54.812082Z",
          "iopub.status.idle": "2022-09-16T05:49:54.849951Z",
          "shell.execute_reply": "2022-09-16T05:49:54.848855Z",
          "shell.execute_reply.started": "2022-09-16T05:49:54.812436Z"
        },
        "id": "H9cOWH-6czzC"
      },
      "outputs": [],
      "source": [
        "# I save the original data frame in a flag to then train the final pipeline\n",
        "pipe_DF = final_df\n",
        "# Dummies for categorical columns\n",
        "final_df = pd.get_dummies(final_df)"
      ]
    },
    {
      "cell_type": "markdown",
      "metadata": {
        "id": "rdunYamEUtIi"
      },
      "source": [
        "I split the dataset into training, testing and validation."
      ]
    },
    {
      "cell_type": "code",
      "execution_count": 266,
      "metadata": {
        "execution": {
          "iopub.execute_input": "2022-09-16T05:50:10.864507Z",
          "iopub.status.busy": "2022-09-16T05:50:10.864205Z",
          "iopub.status.idle": "2022-09-16T05:50:11.012825Z",
          "shell.execute_reply": "2022-09-16T05:50:11.011552Z",
          "shell.execute_reply.started": "2022-09-16T05:50:10.864483Z"
        },
        "id": "Wol0ebMkczzC"
      },
      "outputs": [],
      "source": [
        "X = final_df.drop('Team1_Result',axis=1)\n",
        "y = final_df['Team1_Result']\n",
        "from sklearn.model_selection import train_test_split\n",
        "X_train, X_val, y_train, y_val = train_test_split(X, y, test_size=0.1, random_state=42)\n",
        "X_hold_test, X_test, y_hold_test, y_test = train_test_split(X_val, y_val, test_size=0.1, random_state=42)"
      ]
    },
    {
      "cell_type": "markdown",
      "metadata": {
        "id": "IouyQ98UUz47"
      },
      "source": [
        " Scaling"
      ]
    },
    {
      "cell_type": "code",
      "execution_count": 267,
      "metadata": {
        "execution": {
          "iopub.execute_input": "2022-09-16T05:50:18.027506Z",
          "iopub.status.busy": "2022-09-16T05:50:18.027048Z",
          "iopub.status.idle": "2022-09-16T05:50:18.084682Z",
          "shell.execute_reply": "2022-09-16T05:50:18.083441Z",
          "shell.execute_reply.started": "2022-09-16T05:50:18.027481Z"
        },
        "id": "wdrptfGGczzC"
      },
      "outputs": [],
      "source": [
        "from sklearn.preprocessing import StandardScaler\n",
        "scaler = StandardScaler()\n",
        "X_train = scaler.fit_transform(X_train)\n",
        "X_test = scaler.transform(X_test)\n",
        "X_hold_test = scaler.transform(X_hold_test)"
      ]
    },
    {
      "cell_type": "markdown",
      "metadata": {
        "id": "MFu3YzZ4U5VD"
      },
      "source": [
        "Defining function to display the confusion matrix quickly."
      ]
    },
    {
      "cell_type": "code",
      "execution_count": 268,
      "metadata": {
        "execution": {
          "iopub.execute_input": "2022-09-16T05:50:32.770991Z",
          "iopub.status.busy": "2022-09-16T05:50:32.770665Z",
          "iopub.status.idle": "2022-09-16T05:50:32.776908Z",
          "shell.execute_reply": "2022-09-16T05:50:32.775852Z",
          "shell.execute_reply.started": "2022-09-16T05:50:32.770968Z"
        },
        "id": "Fck1fWaoczzC"
      },
      "outputs": [],
      "source": [
        "from sklearn.metrics import classification_report,ConfusionMatrixDisplay\n",
        "def metrics_display(model):\n",
        "    model.fit(X_train,y_train)\n",
        "    y_pred = model.predict(X_test)\n",
        "    print(classification_report(y_test,y_pred))\n",
        "    ConfusionMatrixDisplay.from_predictions(y_test,y_pred);"
      ]
    },
    {
      "cell_type": "markdown",
      "metadata": {
        "id": "d6LD-tc1j_54"
      },
      "source": [
        "1-  **Random Forest**"
      ]
    },
    {
      "cell_type": "code",
      "execution_count": 269,
      "metadata": {
        "colab": {
          "base_uri": "https://localhost:8080/",
          "height": 453
        },
        "execution": {
          "iopub.execute_input": "2022-09-16T05:50:57.950879Z",
          "iopub.status.busy": "2022-09-16T05:50:57.950472Z",
          "iopub.status.idle": "2022-09-16T05:51:00.271924Z",
          "shell.execute_reply": "2022-09-16T05:51:00.270932Z",
          "shell.execute_reply.started": "2022-09-16T05:50:57.950849Z"
        },
        "id": "Hr0DZgBJczzC",
        "outputId": "2837a5a6-bb1c-4649-d91e-1da332b47eb5"
      },
      "outputs": [
        {
          "name": "stdout",
          "output_type": "stream",
          "text": [
            "              precision    recall  f1-score   support\n",
            "\n",
            "           0       0.54      0.54      0.54        28\n",
            "           1       0.62      0.80      0.70        45\n",
            "           2       0.62      0.24      0.34        21\n",
            "\n",
            "    accuracy                           0.60        94\n",
            "   macro avg       0.59      0.52      0.53        94\n",
            "weighted avg       0.60      0.60      0.57        94\n",
            "\n"
          ]
        },
        {
          "data": {
            "image/png": "[encoded data removed]",
            "text/plain": [
              "<Figure size 640x480 with 2 Axes>"
            ]
          },
          "metadata": {},
          "output_type": "display_data"
        }
      ],
      "source": [
        "# Modeling packages\n",
        "from sklearn.model_selection import RandomizedSearchCV\n",
        "from sklearn.ensemble import RandomForestClassifier\n",
        "metrics_display(RandomForestClassifier())"
      ]
    },
    {
      "cell_type": "markdown",
      "metadata": {
        "id": "96xJKdtknNMQ"
      },
      "source": [
        "2- **XGB Boost**"
      ]
    },
    {
      "cell_type": "code",
      "execution_count": 270,
      "metadata": {
        "colab": {
          "base_uri": "https://localhost:8080/",
          "height": 454
        },
        "execution": {
          "iopub.execute_input": "2022-09-16T05:51:20.536951Z",
          "iopub.status.busy": "2022-09-16T05:51:20.53662Z",
          "iopub.status.idle": "2022-09-16T05:51:31.515245Z",
          "shell.execute_reply": "2022-09-16T05:51:31.513991Z",
          "shell.execute_reply.started": "2022-09-16T05:51:20.536925Z"
        },
        "id": "5YCrzMIMczzC",
        "outputId": "b695859a-a779-467c-caae-0c87fe72e87e"
      },
      "outputs": [
        {
          "name": "stderr",
          "output_type": "stream",
          "text": [
            "/opt/conda/lib/python3.9/site-packages/xgboost/sklearn.py:1421: UserWarning: `use_label_encoder` is deprecated in 1.7.0.\n",
            "  warnings.warn(\"`use_label_encoder` is deprecated in 1.7.0.\")\n"
          ]
        },
        {
          "name": "stdout",
          "output_type": "stream",
          "text": [
            "              precision    recall  f1-score   support\n",
            "\n",
            "           0       0.57      0.43      0.49        28\n",
            "           1       0.56      0.84      0.67        45\n",
            "           2       0.60      0.14      0.23        21\n",
            "\n",
            "    accuracy                           0.56        94\n",
            "   macro avg       0.58      0.47      0.46        94\n",
            "weighted avg       0.57      0.56      0.52        94\n",
            "\n"
          ]
        },
        {
          "data": {
            "image/png": "[encoded data removed]",
            "text/plain": [
              "<Figure size 640x480 with 2 Axes>"
            ]
          },
          "metadata": {},
          "output_type": "display_data"
        }
      ],
      "source": [
        "from xgboost import XGBClassifier\n",
        "metrics_display(XGBClassifier(use_label_encoder=False))"
      ]
    },
    {
      "cell_type": "markdown",
      "metadata": {},
      "source": [
        "3- **Logistic Regression**"
      ]
    },
    {
      "cell_type": "code",
      "execution_count": 271,
      "metadata": {},
      "outputs": [
        {
          "name": "stdout",
          "output_type": "stream",
          "text": [
            "              precision    recall  f1-score   support\n",
            "\n",
            "           0       0.52      0.43      0.47        28\n",
            "           1       0.61      0.89      0.72        45\n",
            "           2       0.20      0.05      0.08        21\n",
            "\n",
            "    accuracy                           0.56        94\n",
            "   macro avg       0.44      0.46      0.42        94\n",
            "weighted avg       0.49      0.56      0.50        94\n",
            "\n"
          ]
        },
        {
          "data": {
            "image/png": "[encoded data removed]",
            "text/plain": [
              "<Figure size 640x480 with 2 Axes>"
            ]
          },
          "metadata": {},
          "output_type": "display_data"
        }
      ],
      "source": [
        "from sklearn.linear_model import LogisticRegression\n",
        "metrics_display(LogisticRegression(solver='newton-cg'))"
      ]
    },
    {
      "cell_type": "markdown",
      "metadata": {},
      "source": [
        "4- **Naive Bayes**"
      ]
    },
    {
      "cell_type": "code",
      "execution_count": 272,
      "metadata": {},
      "outputs": [
        {
          "name": "stdout",
          "output_type": "stream",
          "text": [
            "              precision    recall  f1-score   support\n",
            "\n",
            "           0       1.00      0.11      0.19        28\n",
            "           1       0.89      0.18      0.30        45\n",
            "           2       0.24      0.95      0.39        21\n",
            "\n",
            "    accuracy                           0.33        94\n",
            "   macro avg       0.71      0.41      0.29        94\n",
            "weighted avg       0.78      0.33      0.29        94\n",
            "\n"
          ]
        },
        {
          "data": {
            "image/png": "[encoded data removed]",
            "text/plain": [
              "<Figure size 640x480 with 2 Axes>"
            ]
          },
          "metadata": {},
          "output_type": "display_data"
        }
      ],
      "source": [
        "from sklearn.naive_bayes import GaussianNB\n",
        "metrics_display(GaussianNB())"
      ]
    },
    {
      "cell_type": "markdown",
      "metadata": {},
      "source": [
        "5- **Decision Tree**"
      ]
    },
    {
      "cell_type": "code",
      "execution_count": 273,
      "metadata": {},
      "outputs": [
        {
          "name": "stdout",
          "output_type": "stream",
          "text": [
            "              precision    recall  f1-score   support\n",
            "\n",
            "           0       0.40      0.43      0.41        28\n",
            "           1       0.68      0.60      0.64        45\n",
            "           2       0.38      0.43      0.40        21\n",
            "\n",
            "    accuracy                           0.51        94\n",
            "   macro avg       0.48      0.49      0.48        94\n",
            "weighted avg       0.53      0.51      0.52        94\n",
            "\n"
          ]
        },
        {
          "data": {
            "image/png": "[encoded data removed]",
            "text/plain": [
              "<Figure size 640x480 with 2 Axes>"
            ]
          },
          "metadata": {},
          "output_type": "display_data"
        }
      ],
      "source": [
        "from sklearn.tree import DecisionTreeClassifier\n",
        "metrics_display(DecisionTreeClassifier())"
      ]
    },
    {
      "cell_type": "markdown",
      "metadata": {
        "id": "DpjC_vaCVwRV"
      },
      "source": [
        "The Random forest and XGBoost model performs better than the others, so I will tune its hyperparameters and evaluate the performance based on the validation dataset."
      ]
    },
    {
      "cell_type": "markdown",
      "metadata": {
        "id": "JBPV0DlGnp7Z"
      },
      "source": [
        "### XGBoost - Tuning & Hold-out Validation"
      ]
    },
    {
      "cell_type": "code",
      "execution_count": 86,
      "metadata": {
        "id": "fdmvqLrLT_PT"
      },
      "outputs": [],
      "source": [
        "from sklearn.model_selection import GridSearchCV\n",
        "from sklearn.metrics import accuracy_score\n",
        "\n",
        "# Make a dictionary of hyperparameter values to search\n",
        "search_space = {\n",
        "    \"n_estimators\" : [200,250,300,350,400,450,500],\n",
        "    \"max_depth\" : [3,4,5,6,7,8,9],\n",
        "    \"gamma\" : [0.001,0.01,0.1],\n",
        "    \"learning_rate\" : [0.001,0.01,0.1]\n",
        "}"
      ]
    },
    {
      "cell_type": "code",
      "execution_count": null,
      "metadata": {
        "id": "caOWM0IRUXYl"
      },
      "outputs": [],
      "source": [
        "# make a GridSearchCV object\n",
        "GS = GridSearchCV(estimator = XGBClassifier(use_label_encoder=False),\n",
        "                  param_grid = search_space,\n",
        "                  scoring = 'accuracy',\n",
        "                  cv = 5,\n",
        "                  verbose = 4)"
      ]
    },
    {
      "cell_type": "markdown",
      "metadata": {
        "id": "2YlaIWA8XVvg"
      },
      "source": [
        "Uncomment the following line to enable the tuning. The best result I found was: gamma = 0.01, learning_rate = 0.01, n_estimators = 200, max_depth = 4"
      ]
    },
    {
      "cell_type": "code",
      "execution_count": null,
      "metadata": {
        "id": "tf0Hxp-7UavL"
      },
      "outputs": [],
      "source": [
        "#GS.fit(X_train,y_train)"
      ]
    },
    {
      "cell_type": "markdown",
      "metadata": {
        "id": "S5xo6c5bYrVX"
      },
      "source": [
        "To get only the best hyperparameter values"
      ]
    },
    {
      "cell_type": "code",
      "execution_count": null,
      "metadata": {
        "id": "LAMc2NDvUjZD"
      },
      "outputs": [],
      "source": [
        "#print(GS.best_params_) "
      ]
    },
    {
      "cell_type": "markdown",
      "metadata": {
        "id": "KN3LSmHXYxrI"
      },
      "source": [
        "Initially, we validate the model with its default parameters, and then we will validate it with its tuned parameters."
      ]
    },
    {
      "cell_type": "markdown",
      "metadata": {
        "id": "qEE4d-4jZXng"
      },
      "source": [
        "* **Default Hyperparameters**"
      ]
    },
    {
      "cell_type": "code",
      "execution_count": 274,
      "metadata": {
        "colab": {
          "base_uri": "https://localhost:8080/",
          "height": 453
        },
        "execution": {
          "iopub.execute_input": "2022-09-16T05:52:44.484651Z",
          "iopub.status.busy": "2022-09-16T05:52:44.484309Z",
          "iopub.status.idle": "2022-09-16T05:52:56.859314Z",
          "shell.execute_reply": "2022-09-16T05:52:56.858052Z",
          "shell.execute_reply.started": "2022-09-16T05:52:44.484626Z"
        },
        "id": "4w494WbwczzC",
        "outputId": "5a51e8e3-0107-42ed-bbdf-3e38bcb9fa1e"
      },
      "outputs": [
        {
          "name": "stdout",
          "output_type": "stream",
          "text": [
            "              precision    recall  f1-score   support\n",
            "\n",
            "           0       0.51      0.58      0.54       209\n",
            "           1       0.65      0.81      0.72       436\n",
            "           2       0.28      0.08      0.12       194\n",
            "\n",
            "    accuracy                           0.59       839\n",
            "   macro avg       0.48      0.49      0.46       839\n",
            "weighted avg       0.53      0.59      0.54       839\n",
            "\n"
          ]
        },
        {
          "data": {
            "image/png": "[encoded data removed]",
            "text/plain": [
              "<Figure size 640x480 with 2 Axes>"
            ]
          },
          "metadata": {},
          "output_type": "display_data"
        }
      ],
      "source": [
        "model = XGBClassifier()\n",
        "model.fit(X_train,y_train)\n",
        "y_pred = model.predict(X_hold_test)\n",
        "print(classification_report(y_hold_test,y_pred))\n",
        "ConfusionMatrixDisplay.from_predictions(y_hold_test,y_pred);"
      ]
    },
    {
      "cell_type": "markdown",
      "metadata": {
        "id": "J4mlxyLvZkW1"
      },
      "source": [
        "* **Tuned Hyperparameters**"
      ]
    },
    {
      "cell_type": "markdown",
      "metadata": {},
      "source": [
        "**XGBoost**"
      ]
    },
    {
      "cell_type": "code",
      "execution_count": 275,
      "metadata": {},
      "outputs": [
        {
          "name": "stderr",
          "output_type": "stream",
          "text": [
            "/opt/conda/lib/python3.9/site-packages/xgboost/sklearn.py:1421: UserWarning: `use_label_encoder` is deprecated in 1.7.0.\n",
            "  warnings.warn(\"`use_label_encoder` is deprecated in 1.7.0.\")\n"
          ]
        },
        {
          "name": "stdout",
          "output_type": "stream",
          "text": [
            "              precision    recall  f1-score   support\n",
            "\n",
            "           0       0.53      0.62      0.57       209\n",
            "           1       0.65      0.88      0.74       436\n",
            "           2       0.00      0.00      0.00       194\n",
            "\n",
            "    accuracy                           0.61       839\n",
            "   macro avg       0.39      0.50      0.44       839\n",
            "weighted avg       0.47      0.61      0.53       839\n",
            "\n"
          ]
        },
        {
          "data": {
            "image/png": "[encoded data removed]",
            "text/plain": [
              "<Figure size 640x480 with 2 Axes>"
            ]
          },
          "metadata": {},
          "output_type": "display_data"
        }
      ],
      "source": [
        "model = XGBClassifier(use_label_encoder = False, gamma = 0.01, learning_rate = 0.01, n_estimators = 200, max_depth = 4)\n",
        "model.fit(X_train,y_train)\n",
        "y_pred = model.predict(X_hold_test)\n",
        "print(classification_report(y_hold_test,y_pred))\n",
        "ConfusionMatrixDisplay.from_predictions(y_hold_test,y_pred);"
      ]
    },
    {
      "cell_type": "markdown",
      "metadata": {},
      "source": [
        "### Random Forest - Tuning & Hold-out Validation"
      ]
    },
    {
      "cell_type": "markdown",
      "metadata": {},
      "source": [
        "**Random Forest**"
      ]
    },
    {
      "cell_type": "code",
      "execution_count": null,
      "metadata": {},
      "outputs": [],
      "source": [
        "# Number of trees in random forest\n",
        "n_estimators = [int(x) for x in range(200,2000,200)]\n",
        "# Number of features to consider at every split\n",
        "max_features = ['auto', 'sqrt']\n",
        "# Maximum number of levels in tree\n",
        "max_depth = [int(x) for x in np.linspace(10, 110, num = 11)]\n",
        "max_depth.append(None)\n",
        "# Minimum number of samples required to split a node\n",
        "min_samples_split = [2, 5, 10]\n",
        "# Minimum number of samples required at each leaf node\n",
        "min_samples_leaf = [1, 2, 4]\n",
        "# Method of selecting samples for training each tree\n",
        "bootstrap = [True, False]\n",
        "# Create the random grid\n",
        "random_grid = {'n_estimators': n_estimators,\n",
        "               'max_features': max_features,\n",
        "               'max_depth': max_depth,\n",
        "               'min_samples_split': min_samples_split,\n",
        "               'min_samples_leaf': min_samples_leaf,\n",
        "               'bootstrap': bootstrap}\n",
        "print(random_grid)"
      ]
    },
    {
      "cell_type": "code",
      "execution_count": null,
      "metadata": {},
      "outputs": [],
      "source": [
        "# Use the random grid to search for best hyperparameters\n",
        "# First create the base model to tune\n",
        "rf = RandomForestClassifier()\n",
        "# Random search of parameters, using 3 fold cross validation, \n",
        "# search across 100 different combinations, and use all available cores\n",
        "rf_random = RandomizedSearchCV(estimator = rf, param_distributions = random_grid, n_iter = 100, cv = 3, verbose=2, random_state=42, n_jobs = -1)\n",
        "# Fit the random search model\n",
        "rf_random.fit(X_train, y_train)"
      ]
    },
    {
      "cell_type": "code",
      "execution_count": null,
      "metadata": {},
      "outputs": [],
      "source": [
        "rf_random.best_params_"
      ]
    },
    {
      "cell_type": "code",
      "execution_count": 276,
      "metadata": {},
      "outputs": [
        {
          "name": "stdout",
          "output_type": "stream",
          "text": [
            "              precision    recall  f1-score   support\n",
            "\n",
            "           0       0.50      0.61      0.55       209\n",
            "           1       0.65      0.87      0.74       436\n",
            "           2       0.00      0.00      0.00       194\n",
            "\n",
            "    accuracy                           0.60       839\n",
            "   macro avg       0.38      0.49      0.43       839\n",
            "weighted avg       0.46      0.60      0.52       839\n",
            "\n"
          ]
        },
        {
          "data": {
            "image/png": "[encoded data removed]",
            "text/plain": [
              "<Figure size 640x480 with 2 Axes>"
            ]
          },
          "metadata": {},
          "output_type": "display_data"
        }
      ],
      "source": [
        "model1 = RandomForestClassifier(n_estimators=1600,min_samples_split=5,min_samples_leaf=4,max_features='auto',max_depth=90,bootstrap=True)\n",
        "model1.fit(X_train,y_train)\n",
        "y_pred = model1.predict(X_hold_test)\n",
        "print(classification_report(y_hold_test,y_pred))\n",
        "ConfusionMatrixDisplay.from_predictions(y_hold_test,y_pred);"
      ]
    },
    {
      "cell_type": "markdown",
      "metadata": {
        "id": "3J9VC5lIbrnq"
      },
      "source": [
        "The tuned model XgBoost is the best, so we will create a pipe to use the model later easily."
      ]
    },
    {
      "cell_type": "markdown",
      "metadata": {
        "id": "q_KSlSYgvl06"
      },
      "source": [
        "### Creating a pipeline for the XGBoost model"
      ]
    },
    {
      "cell_type": "code",
      "execution_count": 278,
      "metadata": {
        "colab": {
          "base_uri": "https://localhost:8080/"
        },
        "execution": {
          "iopub.execute_input": "2022-09-16T05:53:24.432991Z",
          "iopub.status.busy": "2022-09-16T05:53:24.432684Z",
          "iopub.status.idle": "2022-09-16T05:53:25.908724Z",
          "shell.execute_reply": "2022-09-16T05:53:25.908102Z",
          "shell.execute_reply.started": "2022-09-16T05:53:24.432968Z"
        },
        "id": "LxTk1OzdczzD",
        "outputId": "9332cbdf-c5fa-41f4-a24c-7c76add65b9f"
      },
      "outputs": [
        {
          "name": "stderr",
          "output_type": "stream",
          "text": [
            "/opt/conda/lib/python3.9/site-packages/xgboost/sklearn.py:1421: UserWarning: `use_label_encoder` is deprecated in 1.7.0.\n",
            "  warnings.warn(\"`use_label_encoder` is deprecated in 1.7.0.\")\n"
          ]
        },
        {
          "data": {
            "text/plain": [
              "Pipeline(steps=[('columntransformer',\n",
              "                 ColumnTransformer(remainder='passthrough',\n",
              "                                   transformers=[('onehotencoder',\n",
              "                                                  OneHotEncoder(),\n",
              "                                                  ['Team1', 'Team2'])])),\n",
              "                ('standardscaler', StandardScaler(with_mean=False)),\n",
              "                ('xgbclassifier',\n",
              "                 XGBClassifier(base_score=0.5, booster='gbtree', callbacks=None,\n",
              "                               colsample_bylevel=1, colsample_bynode=1,\n",
              "                               colsample_bytree=1, early_stopping_...\n",
              "                               feature_types=None, gamma=0.01, gpu_id=-1,\n",
              "                               grow_policy='depthwise', importance_type=None,\n",
              "                               interaction_constraints='', learning_rate=0.01,\n",
              "                               max_bin=256, max_cat_threshold=64,\n",
              "                               max_cat_to_onehot=4, max_delta_step=0,\n",
              "                               max_depth=4, max_leaves=0, min_child_weight=1,\n",
              "                               missing=nan, monotone_constraints='()',\n",
              "                               n_estimators=300, n_jobs=0, num_parallel_tree=1,\n",
              "                               objective='multi:softprob', predictor='auto', ...))])"
            ]
          },
          "execution_count": 278,
          "metadata": {},
          "output_type": "execute_result"
        }
      ],
      "source": [
        "from sklearn.preprocessing import OneHotEncoder\n",
        "from sklearn.compose import make_column_transformer\n",
        "column_trans = make_column_transformer(\n",
        "    (OneHotEncoder(),['Team1', 'Team2']),remainder='passthrough')\n",
        "\n",
        "pipe_X = pipe_DF.drop('Team1_Result',axis=1)\n",
        "pipe_y = pipe_DF['Team1_Result']\n",
        "\n",
        "from sklearn.pipeline import make_pipeline\n",
        "pipe_League = make_pipeline(column_trans,StandardScaler(with_mean=False),XGBClassifier(use_label_encoder=False, gamma= 0.01, learning_rate= 0.01, n_estimators= 300, max_depth= 4))\n",
        "pipe_League.fit(pipe_X,pipe_y)"
      ]
    },
    {
      "cell_type": "code",
      "execution_count": 279,
      "metadata": {},
      "outputs": [
        {
          "data": {
            "text/plain": [
              "Pipeline(steps=[('columntransformer',\n",
              "                 ColumnTransformer(remainder='passthrough',\n",
              "                                   transformers=[('onehotencoder',\n",
              "                                                  OneHotEncoder(),\n",
              "                                                  ['Team1', 'Team2'])])),\n",
              "                ('standardscaler', StandardScaler(with_mean=False)),\n",
              "                ('randomforestclassifier',\n",
              "                 RandomForestClassifier(max_depth=90, min_samples_leaf=4,\n",
              "                                        min_samples_split=5,\n",
              "                                        n_estimators=1600))])"
            ]
          },
          "execution_count": 279,
          "metadata": {},
          "output_type": "execute_result"
        }
      ],
      "source": [
        "pipe_League1 = make_pipeline(column_trans,StandardScaler(with_mean=False),RandomForestClassifier(n_estimators=1600,min_samples_split=5,min_samples_leaf=4,max_features='auto',max_depth=90,bootstrap=True))\n",
        "pipe_League1.fit(pipe_X,pipe_y)"
      ]
    },
    {
      "cell_type": "code",
      "execution_count": 281,
      "metadata": {
        "colab": {
          "base_uri": "https://localhost:8080/"
        },
        "execution": {
          "iopub.execute_input": "2022-09-16T05:54:13.572427Z",
          "iopub.status.busy": "2022-09-16T05:54:13.571673Z",
          "iopub.status.idle": "2022-09-16T05:54:13.577063Z",
          "shell.execute_reply": "2022-09-16T05:54:13.575885Z",
          "shell.execute_reply.started": "2022-09-16T05:54:13.572401Z"
        },
        "id": "oDEXffzJczzD",
        "outputId": "f8ea8637-4137-4e15-cd24-7fae62c71703"
      },
      "outputs": [
        {
          "data": {
            "text/plain": [
              "['groups_stage_prediction.pkl']"
            ]
          },
          "execution_count": 281,
          "metadata": {},
          "output_type": "execute_result"
        }
      ],
      "source": [
        "import joblib\n",
        "joblib.dump(pipe_League,\"groups_stage_prediction.pkl\")"
      ]
    },
    {
      "cell_type": "code",
      "execution_count": 282,
      "metadata": {},
      "outputs": [
        {
          "data": {
            "text/plain": [
              "['groups_stage_prediction1.pkl']"
            ]
          },
          "execution_count": 282,
          "metadata": {},
          "output_type": "execute_result"
        }
      ],
      "source": [
        "import joblib\n",
        "joblib.dump(pipe_League1,\"groups_stage_prediction1.pkl\")"
      ]
    },
    {
      "cell_type": "markdown",
      "metadata": {
        "id": "AzR2pbBKScRC"
      },
      "source": [
        "# KNOCKOUT STAGE MODELING"
      ]
    },
    {
      "cell_type": "markdown",
      "metadata": {
        "id": "boNp6N7wczzD"
      },
      "source": [
        "### Choosing the model \n",
        "\n",
        "Removing Draw status."
      ]
    },
    {
      "cell_type": "code",
      "execution_count": 284,
      "metadata": {
        "execution": {
          "iopub.execute_input": "2022-09-16T05:55:12.365981Z",
          "iopub.status.busy": "2022-09-16T05:55:12.365639Z",
          "iopub.status.idle": "2022-09-16T05:55:12.370822Z",
          "shell.execute_reply": "2022-09-16T05:55:12.370166Z",
          "shell.execute_reply.started": "2022-09-16T05:55:12.365956Z"
        },
        "id": "v8E5xi-QczzD"
      },
      "outputs": [],
      "source": [
        "knock_df = pipe_DF[pipe_DF['Team1_Result'] != 2]"
      ]
    },
    {
      "cell_type": "code",
      "execution_count": 285,
      "metadata": {
        "execution": {
          "iopub.execute_input": "2022-09-16T05:55:18.258961Z",
          "iopub.status.busy": "2022-09-16T05:55:18.25865Z",
          "iopub.status.idle": "2022-09-16T05:55:18.31508Z",
          "shell.execute_reply": "2022-09-16T05:55:18.313224Z",
          "shell.execute_reply.started": "2022-09-16T05:55:18.258937Z"
        },
        "id": "bsDyLjCLczzD"
      },
      "outputs": [],
      "source": [
        "pipe_knock_df = knock_df\n",
        "knock_df = pd.get_dummies(knock_df)\n",
        "X = knock_df.drop('Team1_Result',axis=1)\n",
        "y = knock_df['Team1_Result']\n",
        "\n",
        "X_train, X_val, y_train, y_val = train_test_split(X, y, test_size=0.1, random_state=42)\n",
        "X_hold_test, X_test, y_hold_test, y_test = train_test_split(X_val, y_val, test_size=0.1, random_state=42)"
      ]
    },
    {
      "cell_type": "markdown",
      "metadata": {
        "id": "SbLMG5oRyTqu"
      },
      "source": [
        "*   **Random Forest**\n",
        "\n",
        "\n"
      ]
    },
    {
      "cell_type": "code",
      "execution_count": 286,
      "metadata": {
        "colab": {
          "base_uri": "https://localhost:8080/",
          "height": 439
        },
        "execution": {
          "iopub.execute_input": "2022-09-16T05:55:24.034641Z",
          "iopub.status.busy": "2022-09-16T05:55:24.03432Z",
          "iopub.status.idle": "2022-09-16T05:55:25.501571Z",
          "shell.execute_reply": "2022-09-16T05:55:25.500211Z",
          "shell.execute_reply.started": "2022-09-16T05:55:24.034617Z"
        },
        "id": "vGKPOymlczzD",
        "outputId": "6747a355-809d-4a04-8ad6-d6fc64c42742"
      },
      "outputs": [
        {
          "name": "stdout",
          "output_type": "stream",
          "text": [
            "              precision    recall  f1-score   support\n",
            "\n",
            "           0       0.48      0.63      0.55        19\n",
            "           1       0.85      0.76      0.80        54\n",
            "\n",
            "    accuracy                           0.73        73\n",
            "   macro avg       0.67      0.70      0.67        73\n",
            "weighted avg       0.76      0.73      0.74        73\n",
            "\n"
          ]
        },
        {
          "data": {
            "image/png": "[encoded data removed]",
            "text/plain": [
              "<Figure size 640x480 with 2 Axes>"
            ]
          },
          "metadata": {},
          "output_type": "display_data"
        }
      ],
      "source": [
        "metrics_display(RandomForestClassifier())"
      ]
    },
    {
      "cell_type": "markdown",
      "metadata": {
        "id": "jXAem3jt22nW"
      },
      "source": [
        "* **XGBoost**"
      ]
    },
    {
      "cell_type": "code",
      "execution_count": 287,
      "metadata": {
        "colab": {
          "base_uri": "https://localhost:8080/",
          "height": 435
        },
        "id": "sQNPnjof2848",
        "outputId": "3e7030de-8537-4a3b-dc0e-b3fde1ae724d"
      },
      "outputs": [
        {
          "name": "stderr",
          "output_type": "stream",
          "text": [
            "/opt/conda/lib/python3.9/site-packages/xgboost/sklearn.py:1421: UserWarning: `use_label_encoder` is deprecated in 1.7.0.\n",
            "  warnings.warn(\"`use_label_encoder` is deprecated in 1.7.0.\")\n"
          ]
        },
        {
          "name": "stdout",
          "output_type": "stream",
          "text": [
            "              precision    recall  f1-score   support\n",
            "\n",
            "           0       0.59      0.68      0.63        19\n",
            "           1       0.88      0.83      0.86        54\n",
            "\n",
            "    accuracy                           0.79        73\n",
            "   macro avg       0.74      0.76      0.75        73\n",
            "weighted avg       0.81      0.79      0.80        73\n",
            "\n"
          ]
        },
        {
          "data": {
            "image/png": "[encoded data removed]",
            "text/plain": [
              "<Figure size 640x480 with 2 Axes>"
            ]
          },
          "metadata": {},
          "output_type": "display_data"
        }
      ],
      "source": [
        "metrics_display(XGBClassifier(use_label_encoder=False))"
      ]
    },
    {
      "cell_type": "code",
      "execution_count": 288,
      "metadata": {},
      "outputs": [
        {
          "name": "stdout",
          "output_type": "stream",
          "text": [
            "              precision    recall  f1-score   support\n",
            "\n",
            "           0       0.48      0.53      0.50        19\n",
            "           1       0.83      0.80      0.81        54\n",
            "\n",
            "    accuracy                           0.73        73\n",
            "   macro avg       0.65      0.66      0.66        73\n",
            "weighted avg       0.74      0.73      0.73        73\n",
            "\n"
          ]
        },
        {
          "data": {
            "image/png": "[encoded data removed]",
            "text/plain": [
              "<Figure size 640x480 with 2 Axes>"
            ]
          },
          "metadata": {},
          "output_type": "display_data"
        }
      ],
      "source": [
        "metrics_display(LogisticRegression(solver='newton-cg'))"
      ]
    },
    {
      "cell_type": "markdown",
      "metadata": {
        "id": "Ws9HFTkFe8Jq"
      },
      "source": [
        "All models have very similar performance. Therefore we will tune the Random Forest model and the XGBoost."
      ]
    },
    {
      "cell_type": "markdown",
      "metadata": {
        "id": "TyNoBxnDy2tO"
      },
      "source": [
        "### Random Forest - Tuning & Hold-out Validation "
      ]
    },
    {
      "cell_type": "code",
      "execution_count": 41,
      "metadata": {
        "id": "Zvde7Gisy6eI"
      },
      "outputs": [],
      "source": [
        "search_space = {\n",
        "    \"max_depth\" : [11,12,13,14,15,16],\n",
        "    \"max_leaf_nodes\" : [170,180,190,200,210,220,230],\n",
        "    \"min_samples_leaf\" : [3,4,5,6,7,8],\n",
        "    \"n_estimators\" : [310,320,330,340,350]\n",
        "}"
      ]
    },
    {
      "cell_type": "code",
      "execution_count": 32,
      "metadata": {
        "id": "FFiPVZTT9qVS"
      },
      "outputs": [],
      "source": [
        "GS = GridSearchCV(estimator = RandomForestClassifier(),\n",
        "                  param_grid = search_space,\n",
        "                  scoring = 'accuracy',\n",
        "                  cv = 5,\n",
        "                  verbose = 4)"
      ]
    },
    {
      "cell_type": "markdown",
      "metadata": {
        "id": "_-jREo3KfzEb"
      },
      "source": [
        "Uncomment the following lines to enable the tuning. The best result I found was: max_depth = 16, n_estimators = 320, max_leaf_nodes = 190, min_samples_leaf = 5"
      ]
    },
    {
      "cell_type": "code",
      "execution_count": 33,
      "metadata": {
        "id": "aLxm0mjI9yff"
      },
      "outputs": [],
      "source": [
        "#GS.fit(X_train,y_train)"
      ]
    },
    {
      "cell_type": "code",
      "execution_count": 34,
      "metadata": {
        "id": "Dx2fO77x93Zh"
      },
      "outputs": [],
      "source": [
        "#print(GS.best_params_)"
      ]
    },
    {
      "cell_type": "markdown",
      "metadata": {
        "id": "I-X18vVDgN9s"
      },
      "source": [
        "* **Default Hyperparameters**"
      ]
    },
    {
      "cell_type": "code",
      "execution_count": 289,
      "metadata": {
        "colab": {
          "base_uri": "https://localhost:8080/",
          "height": 435
        },
        "execution": {
          "iopub.execute_input": "2022-09-16T05:55:41.080729Z",
          "iopub.status.busy": "2022-09-16T05:55:41.080422Z",
          "iopub.status.idle": "2022-09-16T05:55:42.504526Z",
          "shell.execute_reply": "2022-09-16T05:55:42.503528Z",
          "shell.execute_reply.started": "2022-09-16T05:55:41.080705Z"
        },
        "id": "cBB2jLTOczzD",
        "outputId": "6d239d50-3f54-4e69-c022-0348ad1df727"
      },
      "outputs": [
        {
          "name": "stdout",
          "output_type": "stream",
          "text": [
            "              precision    recall  f1-score   support\n",
            "\n",
            "           0       0.67      0.65      0.66       242\n",
            "           1       0.80      0.81      0.80       407\n",
            "\n",
            "    accuracy                           0.75       649\n",
            "   macro avg       0.73      0.73      0.73       649\n",
            "weighted avg       0.75      0.75      0.75       649\n",
            "\n"
          ]
        },
        {
          "data": {
            "image/png": "[encoded data removed]",
            "text/plain": [
              "<Figure size 640x480 with 2 Axes>"
            ]
          },
          "metadata": {},
          "output_type": "display_data"
        }
      ],
      "source": [
        "model = RandomForestClassifier()\n",
        "model.fit(X_train,y_train)\n",
        "y_pred = model.predict(X_hold_test)\n",
        "print(classification_report(y_hold_test,y_pred))\n",
        "ConfusionMatrixDisplay.from_predictions(y_hold_test,y_pred);"
      ]
    },
    {
      "cell_type": "markdown",
      "metadata": {
        "id": "C9PTFE7agPsH"
      },
      "source": [
        "* **Tuned Hyperparameters**"
      ]
    },
    {
      "cell_type": "code",
      "execution_count": 290,
      "metadata": {
        "colab": {
          "base_uri": "https://localhost:8080/",
          "height": 435
        },
        "id": "ozuLgltocyvt",
        "outputId": "4011c70e-12a9-4dc9-b053-ef8ec8916d93"
      },
      "outputs": [
        {
          "name": "stdout",
          "output_type": "stream",
          "text": [
            "              precision    recall  f1-score   support\n",
            "\n",
            "           0       0.75      0.64      0.69       242\n",
            "           1       0.80      0.87      0.84       407\n",
            "\n",
            "    accuracy                           0.78       649\n",
            "   macro avg       0.77      0.75      0.76       649\n",
            "weighted avg       0.78      0.78      0.78       649\n",
            "\n"
          ]
        },
        {
          "data": {
            "image/png": "[encoded data removed]",
            "text/plain": [
              "<Figure size 640x480 with 2 Axes>"
            ]
          },
          "metadata": {},
          "output_type": "display_data"
        }
      ],
      "source": [
        "model = RandomForestClassifier(max_depth= 16, n_estimators=320, max_leaf_nodes= 190, min_samples_leaf= 5)\n",
        "model.fit(X_train,y_train)\n",
        "y_pred = model.predict(X_hold_test)\n",
        "print(classification_report(y_hold_test,y_pred))\n",
        "ConfusionMatrixDisplay.from_predictions(y_hold_test,y_pred);"
      ]
    },
    {
      "cell_type": "markdown",
      "metadata": {
        "id": "xedg9BWSgV9m"
      },
      "source": [
        "The Random Forest greatly improves performance with the tuned hyperparameters; let's see the XGB Boost model."
      ]
    },
    {
      "cell_type": "markdown",
      "metadata": {
        "id": "O79SfZrx6pmd"
      },
      "source": [
        "### XGBoost - Tuning & Hold-out Validation"
      ]
    },
    {
      "cell_type": "code",
      "execution_count": 44,
      "metadata": {
        "id": "ccZeMIGN6GdI"
      },
      "outputs": [],
      "source": [
        "search_space = {\n",
        "    \"n_estimators\" : [300,350,400,450,500,550,600],\n",
        "    \"max_depth\" : [3,4,5,6,7,8,9],\n",
        "    \"gamma\" : [0.001,0.01,0.1],\n",
        "    \"learning_rate\" : [0.001,0.01]\n",
        "}"
      ]
    },
    {
      "cell_type": "code",
      "execution_count": 38,
      "metadata": {
        "id": "NO74fTKH6hXV"
      },
      "outputs": [],
      "source": [
        "GS = GridSearchCV(estimator = XGBClassifier(use_label_encoder=False),\n",
        "                  param_grid = search_space,\n",
        "                  scoring = 'accuracy',\n",
        "                  cv = 5,\n",
        "                  verbose = 4)"
      ]
    },
    {
      "cell_type": "code",
      "execution_count": 39,
      "metadata": {
        "id": "In62_dO06yKr"
      },
      "outputs": [],
      "source": [
        "#GS.fit(X_train,y_train)"
      ]
    },
    {
      "cell_type": "code",
      "execution_count": 40,
      "metadata": {
        "id": "0c-hkbS06zTX"
      },
      "outputs": [],
      "source": [
        "#print(GS.best_params_) # to get only the best hyperparameter values that we searched for"
      ]
    },
    {
      "cell_type": "markdown",
      "metadata": {
        "id": "1EZzGaVlhg0P"
      },
      "source": [
        "Uncomment the following lines to enable the tuning. The best result I found was: gamma = 0.01, learning_rate = 0.01, max_depth = 5, n_estimators = 500"
      ]
    },
    {
      "cell_type": "markdown",
      "metadata": {
        "id": "S1gU6k-6hqy6"
      },
      "source": [
        "* **Default Hyperparameters**"
      ]
    },
    {
      "cell_type": "code",
      "execution_count": 291,
      "metadata": {
        "colab": {
          "base_uri": "https://localhost:8080/",
          "height": 435
        },
        "id": "WzQInRN739j1",
        "outputId": "53e6d003-14e6-47de-bd7b-5184acfc1727"
      },
      "outputs": [
        {
          "name": "stdout",
          "output_type": "stream",
          "text": [
            "              precision    recall  f1-score   support\n",
            "\n",
            "           0       0.68      0.64      0.66       242\n",
            "           1       0.79      0.82      0.80       407\n",
            "\n",
            "    accuracy                           0.75       649\n",
            "   macro avg       0.73      0.73      0.73       649\n",
            "weighted avg       0.75      0.75      0.75       649\n",
            "\n"
          ]
        },
        {
          "data": {
            "image/png": "[encoded data removed]",
            "text/plain": [
              "<Figure size 640x480 with 2 Axes>"
            ]
          },
          "metadata": {},
          "output_type": "display_data"
        }
      ],
      "source": [
        "model = XGBClassifier()\n",
        "model.fit(X_train,y_train)\n",
        "y_pred = model.predict(X_hold_test)\n",
        "print(classification_report(y_hold_test,y_pred))\n",
        "ConfusionMatrixDisplay.from_predictions(y_hold_test,y_pred);"
      ]
    },
    {
      "cell_type": "markdown",
      "metadata": {
        "id": "kAfBCHC5hsWh"
      },
      "source": [
        "* **Tuned Hyperparameters**"
      ]
    },
    {
      "cell_type": "code",
      "execution_count": 292,
      "metadata": {
        "colab": {
          "base_uri": "https://localhost:8080/",
          "height": 435
        },
        "id": "xO4Vx3LiFCw1",
        "outputId": "b03590a5-2ecf-41a5-b19a-15174d1dc7f4"
      },
      "outputs": [
        {
          "name": "stdout",
          "output_type": "stream",
          "text": [
            "              precision    recall  f1-score   support\n",
            "\n",
            "           0       0.72      0.65      0.68       242\n",
            "           1       0.80      0.85      0.83       407\n",
            "\n",
            "    accuracy                           0.78       649\n",
            "   macro avg       0.76      0.75      0.75       649\n",
            "weighted avg       0.77      0.78      0.77       649\n",
            "\n"
          ]
        },
        {
          "data": {
            "image/png": "[encoded data removed]",
            "text/plain": [
              "<Figure size 640x480 with 2 Axes>"
            ]
          },
          "metadata": {},
          "output_type": "display_data"
        }
      ],
      "source": [
        "model = XGBClassifier(gamma=0.01,learning_rate=0.01, max_depth=5, n_estimators=500)\n",
        "model.fit(X_train,y_train)\n",
        "y_pred = model.predict(X_hold_test)\n",
        "print(classification_report(y_hold_test,y_pred))\n",
        "ConfusionMatrixDisplay.from_predictions(y_hold_test,y_pred);"
      ]
    },
    {
      "cell_type": "markdown",
      "metadata": {
        "id": "c-XKzHRljYwk"
      },
      "source": [
        "The model does not improve notably. However, we will use XGBoost model for the kockout prediction."
      ]
    },
    {
      "cell_type": "markdown",
      "metadata": {
        "id": "x78XUokKzTc9"
      },
      "source": [
        "### Creating a pipeline for the XGBoost model"
      ]
    },
    {
      "cell_type": "code",
      "execution_count": null,
      "metadata": {
        "colab": {
          "base_uri": "https://localhost:8080/"
        },
        "execution": {
          "iopub.execute_input": "2022-09-16T05:55:51.628446Z",
          "iopub.status.busy": "2022-09-16T05:55:51.628023Z",
          "iopub.status.idle": "2022-09-16T05:55:54.840042Z",
          "shell.execute_reply": "2022-09-16T05:55:54.839217Z",
          "shell.execute_reply.started": "2022-09-16T05:55:51.628412Z"
        },
        "id": "I7XG9cweczzD",
        "outputId": "1465bdae-3d79-4fcf-edcd-97a8cbe09fdb"
      },
      "outputs": [],
      "source": [
        "pipe_X = pipe_knock_df.drop('Team1_Result',axis=1)\n",
        "pipe_y = pipe_knock_df['Team1_Result']\n",
        "pipe_knock = make_pipeline(column_trans,StandardScaler(with_mean=False),XGBClassifier(gamma=0.01,learning_rate=0.01, max_depth=5, n_estimators=500))\n",
        "pipe_knock.fit(pipe_X,pipe_y)"
      ]
    },
    {
      "cell_type": "code",
      "execution_count": null,
      "metadata": {},
      "outputs": [],
      "source": [
        "pipe_knock1 = make_pipeline(column_trans,StandardScaler(with_mean=False),RandomForestClassifier(max_depth= 16, n_estimators=320, max_leaf_nodes= 190, min_samples_leaf= 5))\n",
        "pipe_knock1.fit(pipe_X,pipe_y)"
      ]
    },
    {
      "cell_type": "code",
      "execution_count": 296,
      "metadata": {
        "colab": {
          "base_uri": "https://localhost:8080/"
        },
        "execution": {
          "iopub.execute_input": "2022-09-16T05:56:12.363507Z",
          "iopub.status.busy": "2022-09-16T05:56:12.363203Z",
          "iopub.status.idle": "2022-09-16T05:56:12.36764Z",
          "shell.execute_reply": "2022-09-16T05:56:12.366824Z",
          "shell.execute_reply.started": "2022-09-16T05:56:12.363484Z"
        },
        "id": "qyEa4sYmczzD",
        "outputId": "50b50e2f-55a6-47c9-d411-84144775eed0"
      },
      "outputs": [
        {
          "data": {
            "text/plain": [
              "['knockout_stage_prediction.pkl']"
            ]
          },
          "execution_count": 296,
          "metadata": {},
          "output_type": "execute_result"
        }
      ],
      "source": [
        "joblib.dump(pipe_knock,\"knockout_stage_prediction.pkl\")"
      ]
    },
    {
      "cell_type": "code",
      "execution_count": 297,
      "metadata": {},
      "outputs": [
        {
          "data": {
            "text/plain": [
              "['knockout_stage_prediction1.pkl']"
            ]
          },
          "execution_count": 297,
          "metadata": {},
          "output_type": "execute_result"
        }
      ],
      "source": [
        "joblib.dump(pipe_knock1,\"knockout_stage_prediction1.pkl\")"
      ]
    }
  ],
  "metadata": {
    "colab": {
      "collapsed_sections": [
        "_7_ON8XCYkI7",
        "FEYek9oklogj",
        "JBPV0DlGnp7Z",
        "Atz3_2DioYo5",
        "q_KSlSYgvl06",
        "TyNoBxnDy2tO",
        "16Po-EIqzGDA"
      ],
      "include_colab_link": true,
      "provenance": []
    },
    "kernelspec": {
      "display_name": "Python 3.9.13 ('base')",
      "language": "python",
      "name": "python3"
    },
    "language_info": {
      "codemirror_mode": {
        "name": "ipython",
        "version": 3
      },
      "file_extension": ".py",
      "mimetype": "text/x-python",
      "name": "python",
      "nbconvert_exporter": "python",
      "pygments_lexer": "ipython3",
      "version": "3.9.13"
    },
    "vscode": {
      "interpreter": {
        "hash": "d4d1e4263499bec80672ea0156c357c1ee493ec2b1c70f0acce89fc37c4a6abe"
      }
    }
  },
  "nbformat": 4,
  "nbformat_minor": 0
}
